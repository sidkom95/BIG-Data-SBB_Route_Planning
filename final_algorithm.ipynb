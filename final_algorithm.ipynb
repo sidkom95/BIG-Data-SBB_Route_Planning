{
 "cells": [
  {
   "cell_type": "markdown",
   "metadata": {},
   "source": [
    "# Final algorithm"
   ]
  },
  {
   "cell_type": "markdown",
   "metadata": {},
   "source": [
    "_Now that we iterated on all the necessary steps, we can finally build the algorithm._\n",
    "\n",
    "_The first final algorithm we build took a departure time as input, we will now reverse the algorithm to give a desired arrival time._\n",
    "\n",
    "_With this algorithm, the user enters:_\n",
    "- _the departure location_\n",
    "- _the arrival location_\n",
    "- _the desired arrival time_\n",
    "- _the desired confidence probability_\n",
    "- _**optional:** the minimum departure time_\n",
    "\n",
    "_We then compute the top 3 routes with their respective probability._\n",
    "\n",
    "### 1. There are directly some possible routes:\n",
    "_If there are some paths, we output them directly such that it satisfies the desired probability._\n",
    "\n",
    "### 2. There are no routes\n",
    "_We reject the desired probability and considers it as a failure. The route closest to the user requirement is still returned._"
   ]
  },
  {
   "cell_type": "code",
   "execution_count": 1,
   "metadata": {},
   "outputs": [
    {
     "data": {
      "text/html": [
       "Current session configs: <tt>{'conf': {'spark.app.name': 'group100_final'}, 'kind': 'pyspark'}</tt><br>"
      ],
      "text/plain": [
       "<IPython.core.display.HTML object>"
      ]
     },
     "metadata": {},
     "output_type": "display_data"
    },
    {
     "data": {
      "text/html": [
       "<table>\n",
       "<tr><th>ID</th><th>YARN Application ID</th><th>Kind</th><th>State</th><th>Spark UI</th><th>Driver log</th><th>Current session?</th></tr><tr><td>9346</td><td>application_1589299642358_3926</td><td>pyspark</td><td>idle</td><td><a target=\"_blank\" href=\"http://iccluster044.iccluster.epfl.ch:8088/proxy/application_1589299642358_3926/\">Link</a></td><td><a target=\"_blank\" href=\"http://iccluster069.iccluster.epfl.ch:8042/node/containerlogs/container_e06_1589299642358_3926_01_000001/ebouille\">Link</a></td><td></td></tr><tr><td>9363</td><td>application_1589299642358_3943</td><td>pyspark</td><td>idle</td><td><a target=\"_blank\" href=\"http://iccluster044.iccluster.epfl.ch:8088/proxy/application_1589299642358_3943/\">Link</a></td><td><a target=\"_blank\" href=\"http://iccluster066.iccluster.epfl.ch:8042/node/containerlogs/container_e06_1589299642358_3943_01_000001/ebouille\">Link</a></td><td></td></tr><tr><td>9369</td><td>application_1589299642358_3949</td><td>pyspark</td><td>idle</td><td><a target=\"_blank\" href=\"http://iccluster044.iccluster.epfl.ch:8088/proxy/application_1589299642358_3949/\">Link</a></td><td><a target=\"_blank\" href=\"http://iccluster069.iccluster.epfl.ch:8042/node/containerlogs/container_e06_1589299642358_3949_01_000001/ebouille\">Link</a></td><td></td></tr><tr><td>9376</td><td>application_1589299642358_3956</td><td>pyspark</td><td>idle</td><td><a target=\"_blank\" href=\"http://iccluster044.iccluster.epfl.ch:8088/proxy/application_1589299642358_3956/\">Link</a></td><td><a target=\"_blank\" href=\"http://iccluster068.iccluster.epfl.ch:8042/node/containerlogs/container_e06_1589299642358_3956_01_000001/ebouille\">Link</a></td><td></td></tr><tr><td>9379</td><td>application_1589299642358_3959</td><td>pyspark</td><td>idle</td><td><a target=\"_blank\" href=\"http://iccluster044.iccluster.epfl.ch:8088/proxy/application_1589299642358_3959/\">Link</a></td><td><a target=\"_blank\" href=\"http://iccluster066.iccluster.epfl.ch:8042/node/containerlogs/container_e06_1589299642358_3959_01_000001/ebouille\">Link</a></td><td></td></tr><tr><td>9380</td><td>application_1589299642358_3960</td><td>pyspark</td><td>idle</td><td><a target=\"_blank\" href=\"http://iccluster044.iccluster.epfl.ch:8088/proxy/application_1589299642358_3960/\">Link</a></td><td><a target=\"_blank\" href=\"http://iccluster071.iccluster.epfl.ch:8042/node/containerlogs/container_e06_1589299642358_3960_01_000001/ebouille\">Link</a></td><td></td></tr><tr><td>9382</td><td>application_1589299642358_3962</td><td>pyspark</td><td>idle</td><td><a target=\"_blank\" href=\"http://iccluster044.iccluster.epfl.ch:8088/proxy/application_1589299642358_3962/\">Link</a></td><td><a target=\"_blank\" href=\"http://iccluster069.iccluster.epfl.ch:8042/node/containerlogs/container_e06_1589299642358_3962_01_000001/ebouille\">Link</a></td><td></td></tr><tr><td>9383</td><td>application_1589299642358_3963</td><td>pyspark</td><td>idle</td><td><a target=\"_blank\" href=\"http://iccluster044.iccluster.epfl.ch:8088/proxy/application_1589299642358_3963/\">Link</a></td><td><a target=\"_blank\" href=\"http://iccluster070.iccluster.epfl.ch:8042/node/containerlogs/container_e06_1589299642358_3963_01_000001/ebouille\">Link</a></td><td></td></tr><tr><td>9384</td><td>application_1589299642358_3964</td><td>pyspark</td><td>idle</td><td><a target=\"_blank\" href=\"http://iccluster044.iccluster.epfl.ch:8088/proxy/application_1589299642358_3964/\">Link</a></td><td><a target=\"_blank\" href=\"http://iccluster065.iccluster.epfl.ch:8042/node/containerlogs/container_e06_1589299642358_3964_01_000001/ebouille\">Link</a></td><td></td></tr><tr><td>9385</td><td>application_1589299642358_3965</td><td>pyspark</td><td>idle</td><td><a target=\"_blank\" href=\"http://iccluster044.iccluster.epfl.ch:8088/proxy/application_1589299642358_3965/\">Link</a></td><td><a target=\"_blank\" href=\"http://iccluster072.iccluster.epfl.ch:8042/node/containerlogs/container_e06_1589299642358_3965_01_000001/ebouille\">Link</a></td><td></td></tr><tr><td>9387</td><td>application_1589299642358_3967</td><td>pyspark</td><td>busy</td><td><a target=\"_blank\" href=\"http://iccluster044.iccluster.epfl.ch:8088/proxy/application_1589299642358_3967/\">Link</a></td><td><a target=\"_blank\" href=\"http://iccluster068.iccluster.epfl.ch:8042/node/containerlogs/container_e06_1589299642358_3967_01_000001/ebouille\">Link</a></td><td></td></tr><tr><td>9388</td><td>application_1589299642358_3970</td><td>pyspark</td><td>idle</td><td><a target=\"_blank\" href=\"http://iccluster044.iccluster.epfl.ch:8088/proxy/application_1589299642358_3970/\">Link</a></td><td><a target=\"_blank\" href=\"http://iccluster065.iccluster.epfl.ch:8042/node/containerlogs/container_e06_1589299642358_3970_01_000001/ebouille\">Link</a></td><td></td></tr><tr><td>9389</td><td>application_1589299642358_3971</td><td>pyspark</td><td>idle</td><td><a target=\"_blank\" href=\"http://iccluster044.iccluster.epfl.ch:8088/proxy/application_1589299642358_3971/\">Link</a></td><td><a target=\"_blank\" href=\"http://iccluster070.iccluster.epfl.ch:8042/node/containerlogs/container_e06_1589299642358_3971_01_000001/ebouille\">Link</a></td><td></td></tr><tr><td>9391</td><td>application_1589299642358_3973</td><td>pyspark</td><td>idle</td><td><a target=\"_blank\" href=\"http://iccluster044.iccluster.epfl.ch:8088/proxy/application_1589299642358_3973/\">Link</a></td><td><a target=\"_blank\" href=\"http://iccluster071.iccluster.epfl.ch:8042/node/containerlogs/container_e06_1589299642358_3973_01_000002/ebouille\">Link</a></td><td></td></tr><tr><td>9393</td><td>application_1589299642358_3975</td><td>pyspark</td><td>idle</td><td><a target=\"_blank\" href=\"http://iccluster044.iccluster.epfl.ch:8088/proxy/application_1589299642358_3975/\">Link</a></td><td><a target=\"_blank\" href=\"http://iccluster068.iccluster.epfl.ch:8042/node/containerlogs/container_e06_1589299642358_3975_01_000001/ebouille\">Link</a></td><td></td></tr><tr><td>9394</td><td>application_1589299642358_3977</td><td>pyspark</td><td>idle</td><td><a target=\"_blank\" href=\"http://iccluster044.iccluster.epfl.ch:8088/proxy/application_1589299642358_3977/\">Link</a></td><td><a target=\"_blank\" href=\"http://iccluster066.iccluster.epfl.ch:8042/node/containerlogs/container_e06_1589299642358_3977_01_000001/ebouille\">Link</a></td><td></td></tr><tr><td>9396</td><td>application_1589299642358_3979</td><td>pyspark</td><td>busy</td><td><a target=\"_blank\" href=\"http://iccluster044.iccluster.epfl.ch:8088/proxy/application_1589299642358_3979/\">Link</a></td><td><a target=\"_blank\" href=\"http://iccluster069.iccluster.epfl.ch:8042/node/containerlogs/container_e06_1589299642358_3979_01_000001/ebouille\">Link</a></td><td></td></tr><tr><td>9397</td><td>application_1589299642358_3980</td><td>pyspark</td><td>idle</td><td><a target=\"_blank\" href=\"http://iccluster044.iccluster.epfl.ch:8088/proxy/application_1589299642358_3980/\">Link</a></td><td><a target=\"_blank\" href=\"http://iccluster069.iccluster.epfl.ch:8042/node/containerlogs/container_e06_1589299642358_3980_01_000001/ebouille\">Link</a></td><td></td></tr><tr><td>9398</td><td>application_1589299642358_3981</td><td>pyspark</td><td>idle</td><td><a target=\"_blank\" href=\"http://iccluster044.iccluster.epfl.ch:8088/proxy/application_1589299642358_3981/\">Link</a></td><td><a target=\"_blank\" href=\"http://iccluster070.iccluster.epfl.ch:8042/node/containerlogs/container_e06_1589299642358_3981_01_000001/ebouille\">Link</a></td><td></td></tr><tr><td>9399</td><td>application_1589299642358_3982</td><td>pyspark</td><td>idle</td><td><a target=\"_blank\" href=\"http://iccluster044.iccluster.epfl.ch:8088/proxy/application_1589299642358_3982/\">Link</a></td><td><a target=\"_blank\" href=\"http://iccluster069.iccluster.epfl.ch:8042/node/containerlogs/container_e06_1589299642358_3982_01_000001/ebouille\">Link</a></td><td></td></tr><tr><td>9400</td><td>application_1589299642358_3983</td><td>pyspark</td><td>idle</td><td><a target=\"_blank\" href=\"http://iccluster044.iccluster.epfl.ch:8088/proxy/application_1589299642358_3983/\">Link</a></td><td><a target=\"_blank\" href=\"http://iccluster066.iccluster.epfl.ch:8042/node/containerlogs/container_e06_1589299642358_3983_01_000001/ebouille\">Link</a></td><td></td></tr><tr><td>9401</td><td>application_1589299642358_3984</td><td>pyspark</td><td>idle</td><td><a target=\"_blank\" href=\"http://iccluster044.iccluster.epfl.ch:8088/proxy/application_1589299642358_3984/\">Link</a></td><td><a target=\"_blank\" href=\"http://iccluster065.iccluster.epfl.ch:8042/node/containerlogs/container_e06_1589299642358_3984_01_000001/ebouille\">Link</a></td><td></td></tr><tr><td>9402</td><td>application_1589299642358_3985</td><td>pyspark</td><td>idle</td><td><a target=\"_blank\" href=\"http://iccluster044.iccluster.epfl.ch:8088/proxy/application_1589299642358_3985/\">Link</a></td><td><a target=\"_blank\" href=\"http://iccluster071.iccluster.epfl.ch:8042/node/containerlogs/container_e06_1589299642358_3985_01_000001/ebouille\">Link</a></td><td></td></tr></table>"
      ],
      "text/plain": [
       "<IPython.core.display.HTML object>"
      ]
     },
     "metadata": {},
     "output_type": "display_data"
    }
   ],
   "source": [
    "%%configure\n",
    "{\"conf\": {\n",
    "    \"spark.app.name\": \"group100_final\"\n",
    "}}"
   ]
  },
  {
   "cell_type": "code",
   "execution_count": 2,
   "metadata": {},
   "outputs": [
    {
     "name": "stdout",
     "output_type": "stream",
     "text": [
      "Starting Spark application\n"
     ]
    },
    {
     "data": {
      "text/html": [
       "<table>\n",
       "<tr><th>ID</th><th>YARN Application ID</th><th>Kind</th><th>State</th><th>Spark UI</th><th>Driver log</th><th>Current session?</th></tr><tr><td>9403</td><td>application_1589299642358_3986</td><td>pyspark</td><td>idle</td><td><a target=\"_blank\" href=\"http://iccluster044.iccluster.epfl.ch:8088/proxy/application_1589299642358_3986/\">Link</a></td><td><a target=\"_blank\" href=\"http://iccluster071.iccluster.epfl.ch:8042/node/containerlogs/container_e06_1589299642358_3986_01_000001/ebouille\">Link</a></td><td>✔</td></tr></table>"
      ],
      "text/plain": [
       "<IPython.core.display.HTML object>"
      ]
     },
     "metadata": {},
     "output_type": "display_data"
    },
    {
     "data": {
      "application/vnd.jupyter.widget-view+json": {
       "model_id": "",
       "version_major": 2,
       "version_minor": 0
      },
      "text/plain": [
       "FloatProgress(value=0.0, bar_style='info', description='Progress:', layout=Layout(height='25px', width='50%'),…"
      ]
     },
     "metadata": {},
     "output_type": "display_data"
    },
    {
     "name": "stdout",
     "output_type": "stream",
     "text": [
      "SparkSession available as 'spark'.\n"
     ]
    },
    {
     "data": {
      "application/vnd.jupyter.widget-view+json": {
       "model_id": "",
       "version_major": 2,
       "version_minor": 0
      },
      "text/plain": [
       "FloatProgress(value=0.0, bar_style='info', description='Progress:', layout=Layout(height='25px', width='50%'),…"
      ]
     },
     "metadata": {},
     "output_type": "display_data"
    }
   ],
   "source": [
    "# Initialization"
   ]
  },
  {
   "cell_type": "code",
   "execution_count": 3,
   "metadata": {},
   "outputs": [
    {
     "data": {
      "application/vnd.jupyter.widget-view+json": {
       "model_id": "",
       "version_major": 2,
       "version_minor": 0
      },
      "text/plain": [
       "FloatProgress(value=0.0, bar_style='info', description='Progress:', layout=Layout(height='25px', width='50%'),…"
      ]
     },
     "metadata": {},
     "output_type": "display_data"
    }
   ],
   "source": [
    "username = 'mjouve'"
   ]
  },
  {
   "cell_type": "code",
   "execution_count": 4,
   "metadata": {},
   "outputs": [
    {
     "data": {
      "application/vnd.jupyter.widget-view+json": {
       "model_id": "",
       "version_major": 2,
       "version_minor": 0
      },
      "text/plain": [
       "FloatProgress(value=0.0, bar_style='info', description='Progress:', layout=Layout(height='25px', width='50%'),…"
      ]
     },
     "metadata": {},
     "output_type": "display_data"
    }
   ],
   "source": [
    "from pyspark.sql.functions import udf\n",
    "import pyspark.sql.functions as F\n",
    "from datetime import time, datetime, timedelta\n",
    "from collections import defaultdict\n",
    "import numpy as np"
   ]
  },
  {
   "cell_type": "markdown",
   "metadata": {},
   "source": [
    "# Loading filtered dataframes obtain previously"
   ]
  },
  {
   "cell_type": "code",
   "execution_count": 5,
   "metadata": {},
   "outputs": [
    {
     "data": {
      "application/vnd.jupyter.widget-view+json": {
       "model_id": "",
       "version_major": 2,
       "version_minor": 0
      },
      "text/plain": [
       "FloatProgress(value=0.0, bar_style='info', description='Progress:', layout=Layout(height='25px', width='50%'),…"
      ]
     },
     "metadata": {},
     "output_type": "display_data"
    }
   ],
   "source": [
    "stops = spark.read.orc(\"/user/{}/zurich_stops.orc\".format(username))"
   ]
  },
  {
   "cell_type": "code",
   "execution_count": 6,
   "metadata": {},
   "outputs": [
    {
     "data": {
      "application/vnd.jupyter.widget-view+json": {
       "model_id": "",
       "version_major": 2,
       "version_minor": 0
      },
      "text/plain": [
       "FloatProgress(value=0.0, bar_style='info', description='Progress:', layout=Layout(height='25px', width='50%'),…"
      ]
     },
     "metadata": {},
     "output_type": "display_data"
    }
   ],
   "source": [
    "reachable_pair_grouped = spark.read.orc(\"/user/{}/reachable_pair_grouped.orc\".format(username))"
   ]
  },
  {
   "cell_type": "code",
   "execution_count": 7,
   "metadata": {},
   "outputs": [
    {
     "data": {
      "application/vnd.jupyter.widget-view+json": {
       "model_id": "",
       "version_major": 2,
       "version_minor": 0
      },
      "text/plain": [
       "FloatProgress(value=0.0, bar_style='info', description='Progress:', layout=Layout(height='25px', width='50%'),…"
      ]
     },
     "metadata": {},
     "output_type": "display_data"
    }
   ],
   "source": [
    "stop_times = spark.read.orc(\"/user/{}/stop_times_filtered.orc\".format(username))"
   ]
  },
  {
   "cell_type": "code",
   "execution_count": 8,
   "metadata": {},
   "outputs": [
    {
     "data": {
      "application/vnd.jupyter.widget-view+json": {
       "model_id": "",
       "version_major": 2,
       "version_minor": 0
      },
      "text/plain": [
       "FloatProgress(value=0.0, bar_style='info', description='Progress:', layout=Layout(height='25px', width='50%'),…"
      ]
     },
     "metadata": {},
     "output_type": "display_data"
    }
   ],
   "source": [
    "connexions = spark.read.orc(\"/user/{}/connexions.orc\".format(username))"
   ]
  },
  {
   "cell_type": "markdown",
   "metadata": {},
   "source": [
    "# Helper methods"
   ]
  },
  {
   "cell_type": "code",
   "execution_count": 9,
   "metadata": {},
   "outputs": [
    {
     "data": {
      "application/vnd.jupyter.widget-view+json": {
       "model_id": "",
       "version_major": 2,
       "version_minor": 0
      },
      "text/plain": [
       "FloatProgress(value=0.0, bar_style='info', description='Progress:', layout=Layout(height='25px', width='50%'),…"
      ]
     },
     "metadata": {},
     "output_type": "display_data"
    }
   ],
   "source": [
    "def compute_footpaths_dict(reachable_pair_df):\n",
    "    \"\"\"\n",
    "    Given a pyspark Dataframe of reachable pairs grouped,\n",
    "    returns the footpaths dictionary used by our algorithm\n",
    "    \"\"\"\n",
    "    return dict(((row.id_1, row.destinations) for row in reachable_pair_df.collect()))"
   ]
  },
  {
   "cell_type": "code",
   "execution_count": 10,
   "metadata": {},
   "outputs": [
    {
     "data": {
      "application/vnd.jupyter.widget-view+json": {
       "model_id": "",
       "version_major": 2,
       "version_minor": 0
      },
      "text/plain": [
       "FloatProgress(value=0.0, bar_style='info', description='Progress:', layout=Layout(height='25px', width='50%'),…"
      ]
     },
     "metadata": {},
     "output_type": "display_data"
    }
   ],
   "source": [
    "def to_datetime(str_time):\n",
    "    \"\"\"\n",
    "    Given a string representing a time (format 'H:M:s', H: hour, M: minute, s:second), convert it to a datetime object\n",
    "    \"\"\"\n",
    "    hour, minute, second = str_time.split(':')\n",
    "    \n",
    "    # convert it to int and remove potential errors by taking a modulo\n",
    "    hour = int(hour) % 24\n",
    "    minute = int(minute) % 60\n",
    "    second = int(second) % 60\n",
    "    \n",
    "    # the year, month and day are dummies heres\n",
    "    return datetime(year=2020, month=1, day=1, hour=hour, minute=minute, second=second)"
   ]
  },
  {
   "cell_type": "code",
   "execution_count": 11,
   "metadata": {},
   "outputs": [
    {
     "data": {
      "application/vnd.jupyter.widget-view+json": {
       "model_id": "",
       "version_major": 2,
       "version_minor": 0
      },
      "text/plain": [
       "FloatProgress(value=0.0, bar_style='info', description='Progress:', layout=Layout(height='25px', width='50%'),…"
      ]
     },
     "metadata": {},
     "output_type": "display_data"
    }
   ],
   "source": [
    "def sort_connexions(connexions_df, departure = True):\n",
    "    \"\"\"\n",
    "    Given a pyspark DataFrame of connexions, returns an array of sorted connexions in ascending order of departure\n",
    "    if departure = True, else in descending order of arrival\n",
    "    \"\"\"\n",
    "\n",
    "    connexions_array = [{'departure_location': row.stop_id_1, \n",
    "                         'departure_time': to_datetime(row.departure_time_1), \n",
    "                         'arrival_location': row.stop_id_2, \n",
    "                         'arrival_time': to_datetime(row.arrival_time_2), \n",
    "                         'trip_id': row.trip_id} for row in connexions_df.collect()]\n",
    "    \n",
    "    if departure:\n",
    "        sorted_connexions = sorted(connexions_array, key = (lambda tup: tup['departure_time']))\n",
    "    \n",
    "    else:\n",
    "        sorted_connexions = sorted(connexions_array, key = (lambda tup: tup['arrival_time']), reverse = True)\n",
    "        \n",
    "    return sorted_connexions"
   ]
  },
  {
   "cell_type": "markdown",
   "metadata": {},
   "source": [
    "# Compute probability given lambda and a time left"
   ]
  },
  {
   "cell_type": "markdown",
   "metadata": {},
   "source": [
    "## Recall:\n",
    "\n",
    "_Our predictive model has for each (stop_id, arrival_time) a parameter for an exponential distribution. Once we get this parameter `lambda`, we can use it with the following method and a `time_left`. The time left corresponds to the amount of time (in seconds) the user can wait before taking the next transport._\n",
    "\n",
    "_As a result, this method gives a probability of taking a transport given that you have `time_left` to catch it and you come from a transport that has `lambdaa` for parameter of its exponential distribution (modeling delay distribution)._"
   ]
  },
  {
   "cell_type": "code",
   "execution_count": 12,
   "metadata": {},
   "outputs": [
    {
     "data": {
      "application/vnd.jupyter.widget-view+json": {
       "model_id": "",
       "version_major": 2,
       "version_minor": 0
      },
      "text/plain": [
       "FloatProgress(value=0.0, bar_style='info', description='Progress:', layout=Layout(height='25px', width='50%'),…"
      ]
     },
     "metadata": {},
     "output_type": "display_data"
    }
   ],
   "source": [
    "# for lambdaa we pass the arrival_delay median\n",
    "def proba_trip(lambdaa, time_left): #time left in seconds\n",
    "    \n",
    "    # This is the average lambda for all possible entries, and we will use it as a default value\n",
    "    default_value = 0.023447352748076224\n",
    "    \n",
    "    # corner case\n",
    "    if lambdaa == -9999:\n",
    "        lambdaa = default_value\n",
    "    \n",
    "    if lambdaa < 0:\n",
    "        return 1\n",
    "    else:\n",
    "        \n",
    "        return 1 - np.exp(- lambdaa * time_left)"
   ]
  },
  {
   "cell_type": "markdown",
   "metadata": {},
   "source": [
    "# Main algorithms"
   ]
  },
  {
   "cell_type": "markdown",
   "metadata": {},
   "source": [
    "## Updating latest departure time"
   ]
  },
  {
   "cell_type": "code",
   "execution_count": 13,
   "metadata": {},
   "outputs": [
    {
     "data": {
      "application/vnd.jupyter.widget-view+json": {
       "model_id": "",
       "version_major": 2,
       "version_minor": 0
      },
      "text/plain": [
       "FloatProgress(value=0.0, bar_style='info', description='Progress:', layout=Layout(height='25px', width='50%'),…"
      ]
     },
     "metadata": {},
     "output_type": "display_data"
    }
   ],
   "source": [
    "def updates_times_dict_given_arrival_top_K_with_proba(times, sorted_connexions, lambda_dict, footpaths, arrival_location, arrival_time, final_departure, K, desired_probability, min_time):\n",
    "    \"\"\"\n",
    "    Given the dictionary of inialized times,\n",
    "    the sorted connexions (by descending order of arrival time),\n",
    "    the lambda_dict (to obtain the parameter for our predictive model),\n",
    "    the footpaths dictionary,\n",
    "    the arrival location,\n",
    "    the final_departure (departure location),\n",
    "    the desired arrival time,\n",
    "    the number of routes to consider (K),\n",
    "    the desired confidence probability,\n",
    "    and a minimum time of departure\n",
    "    \n",
    "    this method updates the times dictionary (latest possible departure from each stop)\n",
    "    \"\"\"\n",
    "    \n",
    "    # initialize arrival location\n",
    "    times[arrival_location][0] = ( (arrival_time, 1, None, None) )\n",
    "    \n",
    "    # first delay is 0 then 2 minutes\n",
    "    cheminement_delay = timedelta(seconds = 0)\n",
    "\n",
    "\n",
    "    # Initalize a dictionary of trips taken. For each trip already taken, \n",
    "    # we map it to the first departure location and departure time where we could have taken this trip. \n",
    "    # Returns None if the key is not assigned to another value thanks to defaultdict.\n",
    "    trips_taken = defaultdict(lambda: None)\n",
    "\n",
    "    # Iterate over connexions in sorted order\n",
    "    for c in sorted_connexions:\n",
    "    \n",
    "        # trip_id of the current connexion\n",
    "        trip_id = c['trip_id']\n",
    "    \n",
    "        # departure location of the current connexion\n",
    "        departure_location = c['departure_location']\n",
    "    \n",
    "        # departure time of the current connexion\n",
    "        departure_time = c['departure_time']\n",
    "    \n",
    "        # arrival location of the current connexion\n",
    "        arrival_location = c['arrival_location']\n",
    "    \n",
    "        # arrival time of the current connexion\n",
    "        arrival_time = c['arrival_time']\n",
    "    \n",
    "        # If current trip could have been taken earlier\n",
    "        if trips_taken[trip_id]:\n",
    "            \n",
    "            \n",
    "            # obtain data about this current trip (where we could have taken it and when)\n",
    "            trip_data = trips_taken[trip_id]\n",
    "        \n",
    "            # obtain departure array\n",
    "            departure_array = times[departure_location]\n",
    "            \n",
    "            # access proba\n",
    "            if times[trip_data[0]][0][2] == None:\n",
    "                next_proba = 1\n",
    "                new_proba = 1\n",
    "            else:\n",
    "                next_connex_data = times[trip_data[0]][0][2]                   \n",
    "                next_proba = times[trip_data[0]][0][1]\n",
    "                next_departure_time = next_connex_data['departure_time']\n",
    "                \n",
    "                    \n",
    "                if next_connex_data.get('walking', None):\n",
    "                    next_departure_time = next_departure_time + timedelta(seconds = next_connex_data['walking'])\n",
    "                    next_departure = next_connex_data['arrival_location']\n",
    "                else:\n",
    "                    next_departure = next_connex_data['departure_location']\n",
    "            \n",
    "                # obtain lambda for this transition of transport    \n",
    "                lambdaa = lambda_dict[(trip_data[0], str(trip_data[1].time()))]\n",
    "                \n",
    "                walking_time = next_connex_data.get('walking', 0)\n",
    "                \n",
    "                # compute probability for taking the next transport\n",
    "                new_proba = proba_trip(lambdaa, (next_departure_time - trip_data[1] - timedelta(seconds = 120) -  timedelta(seconds = int(walking_time))).seconds)\n",
    "            \n",
    "            # if we reached our goal we can store more than one route\n",
    "            if departure_location == final_departure and len(departure_array) < K:\n",
    "                \n",
    "                if new_proba >= desired_probability:\n",
    "                    \n",
    "                    if departure_time >= min_time:\n",
    "                        \n",
    "                        # update best result\n",
    "                        departure_array.append((departure_time, next_proba * new_proba, {'departure_location': departure_location,\n",
    "                                                              'departure_time': departure_time,\n",
    "                                                              'arrival_location':trip_data[0],\n",
    "                                                              'arrival_time': trip_data[1],\n",
    "                                                              'trip_id': trip_id}, new_proba))\n",
    "                \n",
    "                        departure_array.sort(key = (lambda tup: tup[0]), reverse = True)\n",
    "            \n",
    "            # otherwise update the entry\n",
    "            elif departure_time >= times[departure_location][-1][0]:\n",
    "                \n",
    "                if new_proba >= desired_probability:\n",
    "                    \n",
    "                    if departure_time >= min_time:\n",
    "                        # update departure time as well as connexion data for this departure location\n",
    "                        times[departure_location][-1] = (departure_time, next_proba * new_proba, {'departure_location': departure_location,\n",
    "                                                              'departure_time': departure_time,\n",
    "                                                              'arrival_location':trip_data[0],\n",
    "                                                              'arrival_time': trip_data[1],\n",
    "                                                              'trip_id': trip_id}, new_proba)\n",
    "                \n",
    "                        departure_array.sort(key = (lambda tup: tup[0]), reverse = True)\n",
    "            \n",
    "            # obtain the stops reachable by walking\n",
    "            reachable_stops_walking = footpaths.get(departure_location, None)\n",
    "            \n",
    "            \n",
    "            if reachable_stops_walking:\n",
    "                \n",
    "                # for each possible destination\n",
    "                for destination in reachable_stops_walking:\n",
    "                    \n",
    "                    # obtain the stop_id\n",
    "                    location = destination[0]\n",
    "                    \n",
    "                    # obtain the walk duration from arrival_location (convert it to float)\n",
    "                    walking_time = float(destination[1])\n",
    "                    \n",
    "                    # compute the new departure time if using this path\n",
    "                    new_departure_time = departure_time - timedelta(seconds = walking_time)\n",
    "                    \n",
    "                    # obtain the current departure time\n",
    "                    curr_departure_time_array = times[location]\n",
    "                      \n",
    "                    if location == final_departure and len(curr_departure_time_array) < K:\n",
    "                        \n",
    "                        if new_proba >= desired_probability:\n",
    "                            \n",
    "                        \n",
    "                            if new_departure_time >= min_time:\n",
    "                                curr_departure_time_array.append((new_departure_time, next_proba * new_proba, {'departure_location': location,\n",
    "                                                              'departure_time': new_departure_time,\n",
    "                                                              'arrival_location':departure_location,\n",
    "                                                              'arrival_time': departure_time,\n",
    "                                                              'trip_id': trip_id,\n",
    "                                                              'walking': walking_time}, new_proba))\n",
    "                        \n",
    "                                curr_departure_time_array.sort(key = (lambda tup: tup[0]), reverse = True)\n",
    "                    \n",
    "                    \n",
    "                    # if it improves the current best departure time, we update our dictionary\n",
    "                    elif new_departure_time >= curr_departure_time_array[-1][0]:\n",
    "                        \n",
    "                        \n",
    "                        if new_proba >= desired_probability:\n",
    "                            if new_departure_time >= min_time:\n",
    "                                curr_departure_time_array[-1] = (new_departure_time, next_proba * new_proba, {'departure_location': location,\n",
    "                                                              'departure_time': new_departure_time,\n",
    "                                                              'arrival_location':departure_location,\n",
    "                                                              'arrival_time': departure_time,\n",
    "                                                              'trip_id': trip_id,\n",
    "                                                              'walking': walking_time}, new_proba)\n",
    "                        \n",
    "                                curr_departure_time_array.sort(key = (lambda tup: tup[0]), reverse = True)\n",
    "    \n",
    "\n",
    "        # if we can take this connexion\n",
    "        elif times[arrival_location][0][0] >= arrival_time + cheminement_delay:\n",
    "            \n",
    "            cheminement_delay = timedelta(seconds = 120)\n",
    "\n",
    "            # update trips taken with this new trip\n",
    "            trips_taken[trip_id] = (arrival_location, arrival_time)\n",
    "        \n",
    "            departure_location_array = times[departure_location]\n",
    "            \n",
    "            # obtain proba\n",
    "            if times[arrival_location][0][2] == None:\n",
    "                next_proba = 1\n",
    "                new_proba = 1\n",
    "            else:\n",
    "                next_connex_data = times[arrival_location][0][2]\n",
    "                    \n",
    "                next_proba = times[arrival_location][0][1]\n",
    "                next_departure_time = next_connex_data['departure_time']\n",
    "                    \n",
    "                if next_connex_data.get('walking', None):\n",
    "                    next_departure_time = next_departure_time + timedelta(seconds = next_connex_data['walking'])\n",
    "                    next_departure = next_connex_data['arrival_location']\n",
    "                else:\n",
    "                    next_departure = next_connex_data['departure_location']\n",
    "                    \n",
    "                # get lambda for the exponential distribution\n",
    "                lambdaa = lambda_dict[(arrival_location, str(arrival_time.time()))]\n",
    "                \n",
    "                # compute new probability\n",
    "                walking_time = next_connex_data.get('walking', 0)\n",
    "                new_proba = proba_trip(lambdaa, (next_departure_time - arrival_time - timedelta(seconds = 120) - timedelta(seconds = int(walking_time))).seconds)\n",
    "             \n",
    "            # if it is the goal station we can store more than one route\n",
    "            if departure_location == final_departure and len(departure_location_array) < K:\n",
    "                \n",
    "                    if new_proba >= desired_probability:\n",
    "                        \n",
    "                        if departure_time >= min_time:\n",
    "                            \n",
    "                            # update result\n",
    "                            departure_location_array.append((departure_time, next_proba * new_proba, {'departure_location': departure_location,\n",
    "                                                              'departure_time': departure_time,\n",
    "                                                              'arrival_location': arrival_location,\n",
    "                                                              'arrival_time': arrival_time,\n",
    "                                                              'trip_id': trip_id}, new_proba)  )\n",
    "                \n",
    "                            departure_location_array.sort(key=(lambda tup: tup[0]), reverse=True)\n",
    "                \n",
    "            # if the departure time is better than the current best\n",
    "            elif departure_time > times[departure_location][-1][0]:\n",
    "                \n",
    "                if new_proba >= desired_probability:\n",
    "            \n",
    "                    # update the best time for the departure location\n",
    "                    if departure_time >= min_time:\n",
    "                        \n",
    "                        departure_location_array[-1] = (departure_time, next_proba * new_proba, c, new_proba)  \n",
    "                \n",
    "                        departure_location_array.sort(key=(lambda tup: tup[0]), reverse = True)\n",
    "            \n",
    "            # obtain the stops reachable by walking\n",
    "            reachable_stops_walking = footpaths.get(departure_location, None) \n",
    "            \n",
    "            if reachable_stops_walking:\n",
    "                \n",
    "                # for each possible destination\n",
    "                for destination in reachable_stops_walking:\n",
    "                    \n",
    "                    # obtain the stop_id\n",
    "                    location = destination[0]\n",
    "                    \n",
    "                    # obtain the walk duration from departure_location (convert it to float)\n",
    "                    walking_time = float(destination[1])\n",
    "                    \n",
    "                    # compute the new departure time if using this path\n",
    "                    new_departure_time = departure_time - timedelta(seconds = walking_time)\n",
    "                    \n",
    "                    # obtain the current departure time\n",
    "                    curr_departure_time_array = times[location]\n",
    "                      \n",
    "                    if location == final_departure and len(curr_departure_time_array) < K:\n",
    "                        \n",
    "                        if new_proba >= desired_probability:\n",
    "                            \n",
    "                            if new_departure_time >= min_time:\n",
    "                                \n",
    "                        \n",
    "                                curr_departure_time_array.append((new_departure_time, next_proba * new_proba, {'departure_location': location,\n",
    "                                                              'departure_time': new_departure_time,\n",
    "                                                              'arrival_location':departure_location,\n",
    "                                                              'arrival_time': departure_time,\n",
    "                                                              'trip_id': trip_id,\n",
    "                                                              'walking': walking_time}, new_proba))\n",
    "                        \n",
    "                                curr_departure_time_array.sort(key = (lambda tup: tup[0]), reverse = True)\n",
    "                    \n",
    "                    \n",
    "                    # if it improves the current best departure time, we update our dictionary\n",
    "                    elif new_departure_time > curr_departure_time_array[-1][0]:\n",
    "                        \n",
    "                        if new_proba >= desired_probability:\n",
    "                            \n",
    "                            if new_departure_time >= min_time:\n",
    "                                curr_departure_time_array[-1] = (new_departure_time, next_proba * new_proba, {'departure_location': location,\n",
    "                                                              'departure_time': new_departure_time,\n",
    "                                                              'arrival_location':departure_location,\n",
    "                                                              'arrival_time': departure_time,\n",
    "                                                              'trip_id': trip_id,\n",
    "                                                              'walking': walking_time}, new_proba)\n",
    "                        \n",
    "                                curr_departure_time_array.sort(key = (lambda tup: tup[0]), reverse = True)"
   ]
  },
  {
   "cell_type": "code",
   "execution_count": 14,
   "metadata": {},
   "outputs": [
    {
     "data": {
      "application/vnd.jupyter.widget-view+json": {
       "model_id": "",
       "version_major": 2,
       "version_minor": 0
      },
      "text/plain": [
       "FloatProgress(value=0.0, bar_style='info', description='Progress:', layout=Layout(height='25px', width='50%'),…"
      ]
     },
     "metadata": {},
     "output_type": "display_data"
    }
   ],
   "source": [
    "def find_routes(connexions, stops_array, lambda_dict, footpaths, arrival_stop, arrival_time, departure_stop, desired_probability, min_time = '01:00:00'):\n",
    "    \"\"\"\n",
    "    Given\n",
    "    the sorted connexions (by descending order of arrival time),\n",
    "    the array of possible stops,\n",
    "    the lambda_dict (to obtain the parameter for our predictive model),\n",
    "    the footpaths dictionary,\n",
    "    the arrival stop,\n",
    "    the arrival time,\n",
    "    the departure stop,\n",
    "    the desired confidence probability,\n",
    "    and a minimum time of departure (optional)\n",
    "    \n",
    "    this method updates find the best routes and print them\n",
    "    \"\"\"\n",
    "    hour, minute, second = arrival_time.split(':')\n",
    "    hour = int(hour)\n",
    "    minute = int(minute)\n",
    "    second = int(second)\n",
    "    \n",
    "    arrival_time_datetime = datetime(year=2020, month=1, day=1, hour=hour, minute=minute, second=second)\n",
    "    \n",
    "    hour, minute, second = min_time.split(':')\n",
    "    hour = int(hour)\n",
    "    minute = int(minute)\n",
    "    second = int(second)\n",
    "    \n",
    "    min_time_datetime = datetime(year=2020, month=1, day=1, hour=hour, minute=minute, second=second)\n",
    "    \n",
    "    for i in range(5):\n",
    "        \n",
    "        # initialized time\n",
    "        times = dict(((row.stop_id, \n",
    "               [(datetime(year=2019, month=1, day=6, hour=23, minute=59, second = 59), 1, None, None)]) \n",
    "              for row in stops_array))\n",
    "        \n",
    "        \n",
    "        updates_times_dict_given_arrival_top_K_with_proba(times,\n",
    "                                                          connexions,\n",
    "                                                          lambda_dict,\n",
    "                                                          footpaths, \n",
    "                                                          arrival_stop, \n",
    "                                                          arrival_time_datetime, \n",
    "                                                          departure_stop, \n",
    "                                                          K, \n",
    "                                                          desired_probability,\n",
    "                                                          min_time_datetime)\n",
    "        \n",
    "        successful = []\n",
    "        not_enough = []\n",
    "        \n",
    "        for output in times[departure_stop]:\n",
    "            if output[0] != datetime(year=2019, month=1, day=6, hour=23, minute=59, second = 59):\n",
    "\n",
    "                if output[1] >= desired_probability:\n",
    "                    successful.append(output)\n",
    "                else:\n",
    "                    not_enough.append(output)\n",
    "        \n",
    "        if len(successful) == 0 and len(not_enough) == 0:\n",
    "            print('Failure to find such a path')\n",
    "            return\n",
    "            \n",
    "        if len(successful) > 0:\n",
    "            print('Successful - printing routes...\\n')\n",
    "            \n",
    "            for i, connexion_data in enumerate(successful):\n",
    "                paths = print_route(times, connexion_data, arrival_stop)\n",
    "                print('Route {nb}:'.format(nb = i+1))\n",
    "                for path in paths:\n",
    "                    print(path)\n",
    "                print('\\n')\n",
    "            return\n",
    "            \n",
    "        else:\n",
    "            max_prob = -1\n",
    "            max_route = None\n",
    "        \n",
    "            for path in not_enough:\n",
    "                prob = path[1]\n",
    "                \n",
    "                if prob > max_prob:\n",
    "                    max_prob = prob\n",
    "                    max_route = path\n",
    "            \n",
    "            \n",
    "            print('Failure to find such a path')\n",
    "            print('However the route closest to your requirements is:')\n",
    "            paths = print_route(times, max_route, departure_stop)\n",
    "            for path in paths:\n",
    "                print(path)\n",
    "                print('\\n')\n",
    "            return     \n",
    "                        \n",
    "    print('Failure to find such a path')        \n",
    "    return"
   ]
  },
  {
   "cell_type": "code",
   "execution_count": 15,
   "metadata": {},
   "outputs": [
    {
     "data": {
      "application/vnd.jupyter.widget-view+json": {
       "model_id": "",
       "version_major": 2,
       "version_minor": 0
      },
      "text/plain": [
       "FloatProgress(value=0.0, bar_style='info', description='Progress:', layout=Layout(height='25px', width='50%'),…"
      ]
     },
     "metadata": {},
     "output_type": "display_data"
    }
   ],
   "source": [
    "def print_route(times, last_connexion, arrival_stop):\n",
    "    paths = []\n",
    "    \n",
    "    current_stop_data = last_connexion\n",
    "    next_stop = None\n",
    "    \n",
    "    probas = []\n",
    "    \n",
    "    while next_stop != arrival_stop:\n",
    "        current_connexion = current_stop_data[2]\n",
    "        next_stop = current_connexion['arrival_location']\n",
    "        \n",
    "        proba = current_stop_data[1]\n",
    "        probas.append(proba)\n",
    "        \n",
    "        current_stop_data = times[next_stop][0]\n",
    "        \n",
    "    current_stop_data = last_connexion\n",
    "    next_stop = None\n",
    "    \n",
    "    i = 1\n",
    "    \n",
    "    while next_stop != arrival_stop:\n",
    "        \n",
    "        current_connexion = current_stop_data[2]\n",
    "        \n",
    "        proba = current_stop_data[1]\n",
    "        \n",
    "        current_stop = current_connexion['departure_location']\n",
    "        next_stop = current_connexion['arrival_location']\n",
    "        trip = current_connexion['trip_id']\n",
    "        \n",
    "        walking = current_connexion.get('walking', None)\n",
    "        \n",
    "        if walking:\n",
    "            path = 'Walking during {s}s'.format(s = int(walking)) + ' from {d} to {a}'.format(d = current_stop, a = next_stop)\n",
    "        \n",
    "        else:\n",
    "            path = 'From {d_l} (at {d_t}) to {a_l} (at {a_t}) using trip: {t}. Current probability = {p}'.format(d_l = current_stop,\n",
    "                                                                                      d_t = current_connexion['departure_time'].time(),\n",
    "                                                                                      a_l = next_stop,\n",
    "                                                                                      a_t = current_connexion['arrival_time'].time(),\n",
    "                                                                                      t = current_connexion['trip_id'],\n",
    "                                                                                      p = probas[-i])\n",
    "\n",
    "        current_stop_data = times[next_stop][0]\n",
    "        \n",
    "        paths.append(path)\n",
    "        \n",
    "        i+=1\n",
    "        \n",
    "    return paths"
   ]
  },
  {
   "cell_type": "markdown",
   "metadata": {},
   "source": [
    "# Running the algorithm"
   ]
  },
  {
   "cell_type": "code",
   "execution_count": 16,
   "metadata": {},
   "outputs": [
    {
     "data": {
      "application/vnd.jupyter.widget-view+json": {
       "model_id": "",
       "version_major": 2,
       "version_minor": 0
      },
      "text/plain": [
       "FloatProgress(value=0.0, bar_style='info', description='Progress:', layout=Layout(height='25px', width='50%'),…"
      ]
     },
     "metadata": {},
     "output_type": "display_data"
    }
   ],
   "source": [
    "footpaths = compute_footpaths_dict(reachable_pair_grouped)"
   ]
  },
  {
   "cell_type": "code",
   "execution_count": 17,
   "metadata": {},
   "outputs": [
    {
     "data": {
      "application/vnd.jupyter.widget-view+json": {
       "model_id": "",
       "version_major": 2,
       "version_minor": 0
      },
      "text/plain": [
       "FloatProgress(value=0.0, bar_style='info', description='Progress:', layout=Layout(height='25px', width='50%'),…"
      ]
     },
     "metadata": {},
     "output_type": "display_data"
    }
   ],
   "source": [
    "sorted_connexions = sort_connexions(connexions, departure = False)"
   ]
  },
  {
   "cell_type": "code",
   "execution_count": 18,
   "metadata": {},
   "outputs": [
    {
     "data": {
      "application/vnd.jupyter.widget-view+json": {
       "model_id": "",
       "version_major": 2,
       "version_minor": 0
      },
      "text/plain": [
       "FloatProgress(value=0.0, bar_style='info', description='Progress:', layout=Layout(height='25px', width='50%'),…"
      ]
     },
     "metadata": {},
     "output_type": "display_data"
    }
   ],
   "source": [
    "stops_array = stops.select(stops.stop_id).collect()"
   ]
  },
  {
   "cell_type": "code",
   "execution_count": 19,
   "metadata": {},
   "outputs": [
    {
     "data": {
      "application/vnd.jupyter.widget-view+json": {
       "model_id": "",
       "version_major": 2,
       "version_minor": 0
      },
      "text/plain": [
       "FloatProgress(value=0.0, bar_style='info', description='Progress:', layout=Layout(height='25px', width='50%'),…"
      ]
     },
     "metadata": {},
     "output_type": "display_data"
    }
   ],
   "source": [
    "predictive_data = spark.read.orc(\"/user/{}/grouped_delay_lambdas.orc\".format('mjouve'))"
   ]
  },
  {
   "cell_type": "code",
   "execution_count": 20,
   "metadata": {},
   "outputs": [
    {
     "data": {
      "application/vnd.jupyter.widget-view+json": {
       "model_id": "",
       "version_major": 2,
       "version_minor": 0
      },
      "text/plain": [
       "FloatProgress(value=0.0, bar_style='info', description='Progress:', layout=Layout(height='25px', width='50%'),…"
      ]
     },
     "metadata": {},
     "output_type": "display_data"
    }
   ],
   "source": [
    "distribution_data = predictive_data.select(predictive_data.stop_id,\n",
    "                                           predictive_data.arrival_time,\n",
    "                                           predictive_data['lambda'])"
   ]
  },
  {
   "cell_type": "markdown",
   "metadata": {},
   "source": [
    "_Defaultdict storing for each pair (arrival_stop, arrival_time) a lambda computed by our predictive model, if not present returns the default lambda (average computed)._"
   ]
  },
  {
   "cell_type": "code",
   "execution_count": 21,
   "metadata": {},
   "outputs": [
    {
     "data": {
      "application/vnd.jupyter.widget-view+json": {
       "model_id": "",
       "version_major": 2,
       "version_minor": 0
      },
      "text/plain": [
       "FloatProgress(value=0.0, bar_style='info', description='Progress:', layout=Layout(height='25px', width='50%'),…"
      ]
     },
     "metadata": {},
     "output_type": "display_data"
    }
   ],
   "source": [
    "# This is the average lambda for all possible entries, and we will use it as a default value\n",
    "default_value = 0.023447352748076224\n",
    "\n",
    "lambda_dict = defaultdict(lambda: default_value)\n",
    "\n",
    "for row in distribution_data.collect():\n",
    "    lambda_dict[(row.stop_id, row.arrival_time)] = row['lambda']"
   ]
  },
  {
   "cell_type": "markdown",
   "metadata": {},
   "source": [
    "# Validation\n",
    "\n",
    "## 1. Input given on slack\n",
    "\n",
    "Following example might be helpful:\n",
    "From Zürich HB (8503000) to Zürich, Auzelg (8591049), arrival by 12:30:00:\n",
    "Route 1:\n",
    "- 20.TA.26-9-A-j19-1.2.H: 8503000:0:41/42 at 12:07:00 ~ 8503310:0:3 at 12:17:00\n",
    "- Walking: 8503310:0:3 ~ 8590620\n",
    "- 168.TA.26-12-A-j19-1.2.H: 8590620 at 12:23:00 ~ 8591049 at 12:29:00\n",
    "\n",
    "\n",
    "Route 2:\n",
    "- 32.TA.80-159-Y-j19-1.8.H: 8503000:0:5 at 12:05:00 ~ 8503006:0:6 at 12:11:00\n",
    "- Walking: 8503006:0:6 ~ 8580449\n",
    "- 1914.TA.26-11-A-j19-1.27.R: 8580449 at 12:15:00 ~ 8591049 at 12:24:00"
   ]
  },
  {
   "cell_type": "code",
   "execution_count": 22,
   "metadata": {},
   "outputs": [
    {
     "data": {
      "application/vnd.jupyter.widget-view+json": {
       "model_id": "",
       "version_major": 2,
       "version_minor": 0
      },
      "text/plain": [
       "FloatProgress(value=0.0, bar_style='info', description='Progress:', layout=Layout(height='25px', width='50%'),…"
      ]
     },
     "metadata": {},
     "output_type": "display_data"
    },
    {
     "name": "stdout",
     "output_type": "stream",
     "text": [
      "Successful - printing routes...\n",
      "\n",
      "Route 1:\n",
      "From 8503000 (at 12:07:00) to 8503310 (at 12:17:00) using trip: 20.TA.26-9-A-j19-1.2.H. Current probability = 1\n",
      "Walking during 70s from 8503310 to 8590620\n",
      "From 8590620 (at 12:23:00) to 8591049 (at 12:29:00) using trip: 168.TA.26-12-A-j19-1.2.H. Current probability = 0.915466308093\n",
      "\n",
      "\n",
      "Route 2:\n",
      "From 8503000 (at 12:05:00) to 8503006 (at 12:11:00) using trip: 32.TA.80-159-Y-j19-1.8.H. Current probability = 1\n",
      "Walking during 72s from 8503006 to 8580449\n",
      "From 8580449 (at 12:17:00) to 8591128 (at 12:23:00) using trip: 1755.TA.26-781-j19-1.3.R. Current probability = 0.777159023197\n",
      "From 8591128 (at 12:27:00) to 8591049 (at 12:29:00) using trip: 168.TA.26-12-A-j19-1.2.H. Current probability = 0.773486968064"
     ]
    }
   ],
   "source": [
    "departure_location = '8503000'\n",
    "arrival_location = '8591049'\n",
    "arrival_time = '12:30:00'\n",
    "\n",
    "desired_probability = 0.7\n",
    "min_departure_time = '12:04:00'\n",
    "\n",
    "K = 2\n",
    "\n",
    "find_routes(sorted_connexions, \n",
    "            stops_array, \n",
    "            lambda_dict, \n",
    "            footpaths, \n",
    "            arrival_location, \n",
    "            arrival_time, \n",
    "            departure_location, \n",
    "            desired_probability, \n",
    "            min_departure_time)"
   ]
  },
  {
   "cell_type": "markdown",
   "metadata": {},
   "source": [
    "_If we want an earlier arrival_time._"
   ]
  },
  {
   "cell_type": "code",
   "execution_count": 23,
   "metadata": {},
   "outputs": [
    {
     "data": {
      "application/vnd.jupyter.widget-view+json": {
       "model_id": "",
       "version_major": 2,
       "version_minor": 0
      },
      "text/plain": [
       "FloatProgress(value=0.0, bar_style='info', description='Progress:', layout=Layout(height='25px', width='50%'),…"
      ]
     },
     "metadata": {},
     "output_type": "display_data"
    },
    {
     "name": "stdout",
     "output_type": "stream",
     "text": [
      "Successful - printing routes...\n",
      "\n",
      "Route 1:\n",
      "From 8503000 (at 12:05:00) to 8503006 (at 12:11:00) using trip: 32.TA.80-159-Y-j19-1.8.H. Current probability = 1\n",
      "Walking during 72s from 8503006 to 8580449\n",
      "From 8580449 (at 12:15:00) to 8591049 (at 12:24:00) using trip: 1914.TA.26-11-A-j19-1.27.R. Current probability = 0.783457744058\n",
      "\n",
      "\n",
      "Route 2:\n",
      "From 8503000 (at 12:01:00) to 8503006 (at 12:08:00) using trip: 250.TA.26-6-A-j19-1.48.H. Current probability = 1\n",
      "Walking during 72s from 8503006 to 8580449\n",
      "From 8580449 (at 12:15:00) to 8591049 (at 12:24:00) using trip: 1914.TA.26-11-A-j19-1.27.R. Current probability = 0.998399487999"
     ]
    }
   ],
   "source": [
    "departure_location = '8503000'\n",
    "arrival_location = '8591049'\n",
    "arrival_time = '12:25:00'\n",
    "\n",
    "desired_probability = 0.7\n",
    "\n",
    "K = 2\n",
    "\n",
    "find_routes(sorted_connexions, \n",
    "            stops_array, \n",
    "            lambda_dict, \n",
    "            footpaths, \n",
    "            arrival_location, \n",
    "            arrival_time, \n",
    "            departure_location, \n",
    "            desired_probability)"
   ]
  },
  {
   "cell_type": "markdown",
   "metadata": {},
   "source": [
    "_Even though the probability of success in higher in second route, we got that route 1 as a first better choice because it gives you the opportunity to leave later, still with a probability of success higher than the desired one._"
   ]
  },
  {
   "cell_type": "markdown",
   "metadata": {},
   "source": [
    "## 2. Data from SBB (online)"
   ]
  },
  {
   "cell_type": "markdown",
   "metadata": {},
   "source": [
    "_We will compare our algorithm's proposed routes with the real time data from sbb today in some random exemples:_\n",
    "\n",
    "_dep_station_ids   = ['8530644','8591297']_\n",
    "_dep_station_names = ['Meilen Autoquai','Zürich, Orionstrasse']_\n",
    "\n",
    "_arr_station_ids   = ['8590679','8591082']_\n",
    "_arr_station_names = ['Kilchberg ZH, Spital','Zürich, Billoweg']_"
   ]
  },
  {
   "cell_type": "markdown",
   "metadata": {},
   "source": [
    "#### _Example 1:_ "
   ]
  },
  {
   "cell_type": "markdown",
   "metadata": {},
   "source": [
    "![title](sbb_1.png)"
   ]
  },
  {
   "cell_type": "code",
   "execution_count": 24,
   "metadata": {},
   "outputs": [
    {
     "data": {
      "application/vnd.jupyter.widget-view+json": {
       "model_id": "",
       "version_major": 2,
       "version_minor": 0
      },
      "text/plain": [
       "FloatProgress(value=0.0, bar_style='info', description='Progress:', layout=Layout(height='25px', width='50%'),…"
      ]
     },
     "metadata": {},
     "output_type": "display_data"
    },
    {
     "name": "stdout",
     "output_type": "stream",
     "text": [
      "Successful - printing routes...\n",
      "\n",
      "Route 1:\n",
      "From 8530644 (at 10:25:00) to 8530643 (at 10:35:00) using trip: 63.TA.90-174-Y-j19-1.1.H. Current probability = 1\n",
      "Walking during 451s from 8530643 to 8580724\n",
      "Walking during 424s from 8580724 to 8503204\n",
      "From 8503204 (at 11:00:00) to 8503200 (at 11:10:00) using trip: 523.TA.26-8-A-j19-1.347.H. Current probability = 0.607780134281\n",
      "Walking during 10s from 8503200 to 8590673\n",
      "From 8590673 (at 11:13:00) to 8590679 (at 11:23:00) using trip: 35.TA.26-162-j19-1.2.H. Current probability = 0.60763082996"
     ]
    }
   ],
   "source": [
    "departure_location = '8530644'\n",
    "arrival_location = '8590679'\n",
    "arrival_time = '11:25:00'\n",
    "\n",
    "desired_probability = 0.6\n",
    "\n",
    "K = 1\n",
    "\n",
    "find_routes(sorted_connexions, \n",
    "            stops_array, \n",
    "            lambda_dict, \n",
    "            footpaths, \n",
    "            arrival_location, \n",
    "            arrival_time, \n",
    "            departure_location, \n",
    "            desired_probability)"
   ]
  },
  {
   "cell_type": "markdown",
   "metadata": {},
   "source": [
    "#### _Example 2:_ "
   ]
  },
  {
   "cell_type": "markdown",
   "metadata": {},
   "source": [
    "![title](sbb_2.png)"
   ]
  },
  {
   "cell_type": "code",
   "execution_count": 25,
   "metadata": {},
   "outputs": [
    {
     "data": {
      "application/vnd.jupyter.widget-view+json": {
       "model_id": "",
       "version_major": 2,
       "version_minor": 0
      },
      "text/plain": [
       "FloatProgress(value=0.0, bar_style='info', description='Progress:', layout=Layout(height='25px', width='50%'),…"
      ]
     },
     "metadata": {},
     "output_type": "display_data"
    },
    {
     "name": "stdout",
     "output_type": "stream",
     "text": [
      "Successful - printing routes...\n",
      "\n",
      "Route 1:\n",
      "Walking during 176s from 8591297 to 8591049\n",
      "From 8591049 (at 19:27:00) to 8580449 (at 19:36:00) using trip: 794.TA.26-11-A-j19-1.3.H. Current probability = 1\n",
      "Walking during 72s from 8580449 to 8503006\n",
      "From 8503006 (at 19:41:00) to 8503010 (at 19:53:00) using trip: 424.TA.26-2-j19-1.163.H. Current probability = 1\n",
      "Walking during 69s from 8503010 to 8591058\n",
      "From 8591058 (at 19:58:00) to 8591082 (at 20:01:00) using trip: 2643.TA.26-7-B-j19-1.17.H. Current probability = 0.892762262232"
     ]
    }
   ],
   "source": [
    "departure_location = '8591297'\n",
    "arrival_location = '8591082'\n",
    "arrival_time = '20:05:00'\n",
    "\n",
    "desired_probability = 0.8\n",
    "\n",
    "K = 1\n",
    "\n",
    "find_routes(sorted_connexions, \n",
    "            stops_array, \n",
    "            lambda_dict, \n",
    "            footpaths, \n",
    "            arrival_location, \n",
    "            arrival_time, \n",
    "            departure_location, \n",
    "            desired_probability)"
   ]
  },
  {
   "cell_type": "code",
   "execution_count": null,
   "metadata": {},
   "outputs": [],
   "source": []
  }
 ],
 "metadata": {
  "kernelspec": {
   "display_name": "PySpark",
   "language": "",
   "name": "pysparkkernel"
  },
  "language_info": {
   "codemirror_mode": {
    "name": "python",
    "version": 3
   },
   "mimetype": "text/x-python",
   "name": "pyspark",
   "pygments_lexer": "python3"
  }
 },
 "nbformat": 4,
 "nbformat_minor": 4
}
