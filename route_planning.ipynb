{
 "cells": [
  {
   "cell_type": "markdown",
   "metadata": {},
   "source": [
    "# Route planning algorithm\n",
    "\n",
    "\n",
    "We decided to use the [Connection Scan Algorithm](https://transport.okfn.org/index-60.html).\n",
    "\n",
    "This algorithm is described in the following [pdf](https://link.springer.com/content/pdf/10.1007%2F978-3-642-38527-8.pdf) starting page 54 (of the pdf, not the book).\n",
    "\n",
    "This algorithm computes the earliest arrival time at the final stop given a departure stop and a departure time.\n",
    "\n",
    "Even though it is not what is asked (we want to input the desired arrival time at the arrival stop), once we understand this algorithm properly and have a working solution, we can then reverse the algorithm.\n",
    "\n",
    "The main building block of our algorithm is a connexion:\n",
    "\n",
    "_It is a tuple consiting of:_\n",
    "- _a departure stop_id_\n",
    "- _a departure time_\n",
    "- _an arrival stop_id_\n",
    "- _an arrival time_\n",
    "- _a trip_id_\n",
    "\n",
    "\n",
    "_Once we have all the connexions, we can build a 1D array of connexions sorted by ascending departure time._\n",
    "_We also construct a dictionary of all the possible stops and it will be updated with the earliest arrival time found yet._\n",
    "\n",
    "\n",
    "\n",
    "_Now that we have these two simple data structures (an array and a dictionary), we iterate one time over the array and for each connexion that is reachable (the user can take it given its current state), we the arrival time at the arrival stop_id if it is improved by the current connexion._\n",
    "\n",
    "_Once we finished the pass on the array, all reachable stations have had their earliest arrival time updated in the dictionary._\n",
    "\n",
    "_We now construct the path that was taken by the user to obtain the best route._"
   ]
  },
  {
   "cell_type": "code",
   "execution_count": 1,
   "metadata": {},
   "outputs": [
    {
     "data": {
      "text/html": [
       "Current session configs: <tt>{'conf': {'spark.app.name': 'group100_final'}, 'kind': 'pyspark'}</tt><br>"
      ],
      "text/plain": [
       "<IPython.core.display.HTML object>"
      ]
     },
     "metadata": {},
     "output_type": "display_data"
    },
    {
     "data": {
      "text/html": [
       "<table>\n",
       "<tr><th>ID</th><th>YARN Application ID</th><th>Kind</th><th>State</th><th>Spark UI</th><th>Driver log</th><th>Current session?</th></tr><tr><td>9130</td><td>application_1589299642358_3694</td><td>pyspark</td><td>idle</td><td><a target=\"_blank\" href=\"http://iccluster044.iccluster.epfl.ch:8088/proxy/application_1589299642358_3694/\">Link</a></td><td><a target=\"_blank\" href=\"http://iccluster068.iccluster.epfl.ch:8042/node/containerlogs/container_e06_1589299642358_3694_01_000001/ebouille\">Link</a></td><td></td></tr><tr><td>9171</td><td>application_1589299642358_3738</td><td>pyspark</td><td>idle</td><td><a target=\"_blank\" href=\"http://iccluster044.iccluster.epfl.ch:8088/proxy/application_1589299642358_3738/\">Link</a></td><td><a target=\"_blank\" href=\"http://iccluster069.iccluster.epfl.ch:8042/node/containerlogs/container_e06_1589299642358_3738_01_000001/ebouille\">Link</a></td><td></td></tr><tr><td>9192</td><td>application_1589299642358_3759</td><td>pyspark</td><td>idle</td><td><a target=\"_blank\" href=\"http://iccluster044.iccluster.epfl.ch:8088/proxy/application_1589299642358_3759/\">Link</a></td><td><a target=\"_blank\" href=\"http://iccluster070.iccluster.epfl.ch:8042/node/containerlogs/container_e06_1589299642358_3759_01_000001/ebouille\">Link</a></td><td></td></tr><tr><td>9204</td><td>application_1589299642358_3771</td><td>pyspark</td><td>idle</td><td><a target=\"_blank\" href=\"http://iccluster044.iccluster.epfl.ch:8088/proxy/application_1589299642358_3771/\">Link</a></td><td><a target=\"_blank\" href=\"http://iccluster067.iccluster.epfl.ch:8042/node/containerlogs/container_e06_1589299642358_3771_01_000001/ebouille\">Link</a></td><td></td></tr><tr><td>9205</td><td>application_1589299642358_3772</td><td>pyspark</td><td>idle</td><td><a target=\"_blank\" href=\"http://iccluster044.iccluster.epfl.ch:8088/proxy/application_1589299642358_3772/\">Link</a></td><td><a target=\"_blank\" href=\"http://iccluster065.iccluster.epfl.ch:8042/node/containerlogs/container_e06_1589299642358_3772_01_000001/ebouille\">Link</a></td><td></td></tr><tr><td>9206</td><td>application_1589299642358_3773</td><td>pyspark</td><td>idle</td><td><a target=\"_blank\" href=\"http://iccluster044.iccluster.epfl.ch:8088/proxy/application_1589299642358_3773/\">Link</a></td><td><a target=\"_blank\" href=\"http://iccluster067.iccluster.epfl.ch:8042/node/containerlogs/container_e06_1589299642358_3773_01_000001/ebouille\">Link</a></td><td></td></tr><tr><td>9216</td><td>application_1589299642358_3783</td><td>pyspark</td><td>idle</td><td><a target=\"_blank\" href=\"http://iccluster044.iccluster.epfl.ch:8088/proxy/application_1589299642358_3783/\">Link</a></td><td><a target=\"_blank\" href=\"http://iccluster069.iccluster.epfl.ch:8042/node/containerlogs/container_e06_1589299642358_3783_01_000001/ebouille\">Link</a></td><td></td></tr><tr><td>9217</td><td>application_1589299642358_3784</td><td>pyspark</td><td>idle</td><td><a target=\"_blank\" href=\"http://iccluster044.iccluster.epfl.ch:8088/proxy/application_1589299642358_3784/\">Link</a></td><td><a target=\"_blank\" href=\"http://iccluster072.iccluster.epfl.ch:8042/node/containerlogs/container_e06_1589299642358_3784_01_000001/ebouille\">Link</a></td><td></td></tr><tr><td>9226</td><td>application_1589299642358_3793</td><td>pyspark</td><td>busy</td><td><a target=\"_blank\" href=\"http://iccluster044.iccluster.epfl.ch:8088/proxy/application_1589299642358_3793/\">Link</a></td><td><a target=\"_blank\" href=\"http://iccluster065.iccluster.epfl.ch:8042/node/containerlogs/container_e06_1589299642358_3793_01_000001/ebouille\">Link</a></td><td></td></tr><tr><td>9230</td><td>application_1589299642358_3797</td><td>pyspark</td><td>idle</td><td><a target=\"_blank\" href=\"http://iccluster044.iccluster.epfl.ch:8088/proxy/application_1589299642358_3797/\">Link</a></td><td><a target=\"_blank\" href=\"http://iccluster069.iccluster.epfl.ch:8042/node/containerlogs/container_e06_1589299642358_3797_01_000001/ebouille\">Link</a></td><td></td></tr><tr><td>9232</td><td>application_1589299642358_3799</td><td>pyspark</td><td>idle</td><td><a target=\"_blank\" href=\"http://iccluster044.iccluster.epfl.ch:8088/proxy/application_1589299642358_3799/\">Link</a></td><td><a target=\"_blank\" href=\"http://iccluster067.iccluster.epfl.ch:8042/node/containerlogs/container_e06_1589299642358_3799_01_000001/ebouille\">Link</a></td><td></td></tr><tr><td>9233</td><td>application_1589299642358_3800</td><td>pyspark</td><td>idle</td><td><a target=\"_blank\" href=\"http://iccluster044.iccluster.epfl.ch:8088/proxy/application_1589299642358_3800/\">Link</a></td><td><a target=\"_blank\" href=\"http://iccluster066.iccluster.epfl.ch:8042/node/containerlogs/container_e06_1589299642358_3800_01_000001/ebouille\">Link</a></td><td></td></tr><tr><td>9236</td><td>application_1589299642358_3804</td><td>pyspark</td><td>idle</td><td><a target=\"_blank\" href=\"http://iccluster044.iccluster.epfl.ch:8088/proxy/application_1589299642358_3804/\">Link</a></td><td><a target=\"_blank\" href=\"http://iccluster065.iccluster.epfl.ch:8042/node/containerlogs/container_e06_1589299642358_3804_01_000001/ebouille\">Link</a></td><td></td></tr><tr><td>9237</td><td>application_1589299642358_3805</td><td>pyspark</td><td>idle</td><td><a target=\"_blank\" href=\"http://iccluster044.iccluster.epfl.ch:8088/proxy/application_1589299642358_3805/\">Link</a></td><td><a target=\"_blank\" href=\"http://iccluster072.iccluster.epfl.ch:8042/node/containerlogs/container_e06_1589299642358_3805_01_000001/ebouille\">Link</a></td><td></td></tr><tr><td>9239</td><td>application_1589299642358_3808</td><td>pyspark</td><td>busy</td><td><a target=\"_blank\" href=\"http://iccluster044.iccluster.epfl.ch:8088/proxy/application_1589299642358_3808/\">Link</a></td><td><a target=\"_blank\" href=\"http://iccluster071.iccluster.epfl.ch:8042/node/containerlogs/container_e06_1589299642358_3808_01_000001/ebouille\">Link</a></td><td></td></tr><tr><td>9241</td><td>application_1589299642358_3810</td><td>pyspark</td><td>idle</td><td><a target=\"_blank\" href=\"http://iccluster044.iccluster.epfl.ch:8088/proxy/application_1589299642358_3810/\">Link</a></td><td><a target=\"_blank\" href=\"http://iccluster069.iccluster.epfl.ch:8042/node/containerlogs/container_e06_1589299642358_3810_01_000001/ebouille\">Link</a></td><td></td></tr><tr><td>9244</td><td>application_1589299642358_3813</td><td>pyspark</td><td>idle</td><td><a target=\"_blank\" href=\"http://iccluster044.iccluster.epfl.ch:8088/proxy/application_1589299642358_3813/\">Link</a></td><td><a target=\"_blank\" href=\"http://iccluster070.iccluster.epfl.ch:8042/node/containerlogs/container_e06_1589299642358_3813_01_000001/ebouille\">Link</a></td><td></td></tr><tr><td>9246</td><td>application_1589299642358_3815</td><td>pyspark</td><td>idle</td><td><a target=\"_blank\" href=\"http://iccluster044.iccluster.epfl.ch:8088/proxy/application_1589299642358_3815/\">Link</a></td><td><a target=\"_blank\" href=\"http://iccluster068.iccluster.epfl.ch:8042/node/containerlogs/container_e06_1589299642358_3815_01_000001/ebouille\">Link</a></td><td></td></tr><tr><td>9247</td><td>application_1589299642358_3816</td><td>pyspark</td><td>idle</td><td><a target=\"_blank\" href=\"http://iccluster044.iccluster.epfl.ch:8088/proxy/application_1589299642358_3816/\">Link</a></td><td><a target=\"_blank\" href=\"http://iccluster066.iccluster.epfl.ch:8042/node/containerlogs/container_e06_1589299642358_3816_01_000001/ebouille\">Link</a></td><td></td></tr><tr><td>9248</td><td>application_1589299642358_3817</td><td>pyspark</td><td>busy</td><td><a target=\"_blank\" href=\"http://iccluster044.iccluster.epfl.ch:8088/proxy/application_1589299642358_3817/\">Link</a></td><td><a target=\"_blank\" href=\"http://iccluster065.iccluster.epfl.ch:8042/node/containerlogs/container_e06_1589299642358_3817_01_000001/ebouille\">Link</a></td><td></td></tr><tr><td>9250</td><td>application_1589299642358_3819</td><td>pyspark</td><td>idle</td><td><a target=\"_blank\" href=\"http://iccluster044.iccluster.epfl.ch:8088/proxy/application_1589299642358_3819/\">Link</a></td><td><a target=\"_blank\" href=\"http://iccluster071.iccluster.epfl.ch:8042/node/containerlogs/container_e06_1589299642358_3819_01_000001/ebouille\">Link</a></td><td></td></tr><tr><td>9252</td><td>application_1589299642358_3821</td><td>pyspark</td><td>idle</td><td><a target=\"_blank\" href=\"http://iccluster044.iccluster.epfl.ch:8088/proxy/application_1589299642358_3821/\">Link</a></td><td><a target=\"_blank\" href=\"http://iccluster072.iccluster.epfl.ch:8042/node/containerlogs/container_e06_1589299642358_3821_01_000001/ebouille\">Link</a></td><td></td></tr><tr><td>9253</td><td>application_1589299642358_3822</td><td>pyspark</td><td>idle</td><td><a target=\"_blank\" href=\"http://iccluster044.iccluster.epfl.ch:8088/proxy/application_1589299642358_3822/\">Link</a></td><td><a target=\"_blank\" href=\"http://iccluster069.iccluster.epfl.ch:8042/node/containerlogs/container_e06_1589299642358_3822_01_000001/ebouille\">Link</a></td><td></td></tr><tr><td>9254</td><td>application_1589299642358_3823</td><td>pyspark</td><td>idle</td><td><a target=\"_blank\" href=\"http://iccluster044.iccluster.epfl.ch:8088/proxy/application_1589299642358_3823/\">Link</a></td><td><a target=\"_blank\" href=\"http://iccluster070.iccluster.epfl.ch:8042/node/containerlogs/container_e06_1589299642358_3823_01_000001/ebouille\">Link</a></td><td></td></tr><tr><td>9255</td><td>application_1589299642358_3824</td><td>pyspark</td><td>busy</td><td><a target=\"_blank\" href=\"http://iccluster044.iccluster.epfl.ch:8088/proxy/application_1589299642358_3824/\">Link</a></td><td><a target=\"_blank\" href=\"http://iccluster072.iccluster.epfl.ch:8042/node/containerlogs/container_e06_1589299642358_3824_01_000001/ebouille\">Link</a></td><td></td></tr><tr><td>9256</td><td>application_1589299642358_3825</td><td>pyspark</td><td>idle</td><td><a target=\"_blank\" href=\"http://iccluster044.iccluster.epfl.ch:8088/proxy/application_1589299642358_3825/\">Link</a></td><td><a target=\"_blank\" href=\"http://iccluster072.iccluster.epfl.ch:8042/node/containerlogs/container_e06_1589299642358_3825_01_000001/ebouille\">Link</a></td><td></td></tr><tr><td>9257</td><td>application_1589299642358_3826</td><td>pyspark</td><td>idle</td><td><a target=\"_blank\" href=\"http://iccluster044.iccluster.epfl.ch:8088/proxy/application_1589299642358_3826/\">Link</a></td><td><a target=\"_blank\" href=\"http://iccluster068.iccluster.epfl.ch:8042/node/containerlogs/container_e06_1589299642358_3826_01_000001/ebouille\">Link</a></td><td></td></tr><tr><td>9258</td><td>application_1589299642358_3827</td><td>pyspark</td><td>idle</td><td><a target=\"_blank\" href=\"http://iccluster044.iccluster.epfl.ch:8088/proxy/application_1589299642358_3827/\">Link</a></td><td><a target=\"_blank\" href=\"http://iccluster071.iccluster.epfl.ch:8042/node/containerlogs/container_e06_1589299642358_3827_01_000001/ebouille\">Link</a></td><td></td></tr><tr><td>9259</td><td>application_1589299642358_3828</td><td>pyspark</td><td>idle</td><td><a target=\"_blank\" href=\"http://iccluster044.iccluster.epfl.ch:8088/proxy/application_1589299642358_3828/\">Link</a></td><td><a target=\"_blank\" href=\"http://iccluster069.iccluster.epfl.ch:8042/node/containerlogs/container_e06_1589299642358_3828_01_000001/ebouille\">Link</a></td><td></td></tr><tr><td>9260</td><td>application_1589299642358_3829</td><td>pyspark</td><td>idle</td><td><a target=\"_blank\" href=\"http://iccluster044.iccluster.epfl.ch:8088/proxy/application_1589299642358_3829/\">Link</a></td><td><a target=\"_blank\" href=\"http://iccluster065.iccluster.epfl.ch:8042/node/containerlogs/container_e06_1589299642358_3829_01_000001/ebouille\">Link</a></td><td></td></tr></table>"
      ],
      "text/plain": [
       "<IPython.core.display.HTML object>"
      ]
     },
     "metadata": {},
     "output_type": "display_data"
    }
   ],
   "source": [
    "%%configure\n",
    "{\"conf\": {\n",
    "    \"spark.app.name\": \"group100_final\"\n",
    "}}"
   ]
  },
  {
   "cell_type": "markdown",
   "metadata": {},
   "source": [
    "### Start Spark"
   ]
  },
  {
   "cell_type": "code",
   "execution_count": 2,
   "metadata": {},
   "outputs": [
    {
     "name": "stdout",
     "output_type": "stream",
     "text": [
      "Starting Spark application\n"
     ]
    },
    {
     "data": {
      "text/html": [
       "<table>\n",
       "<tr><th>ID</th><th>YARN Application ID</th><th>Kind</th><th>State</th><th>Spark UI</th><th>Driver log</th><th>Current session?</th></tr><tr><td>9261</td><td>application_1589299642358_3830</td><td>pyspark</td><td>idle</td><td><a target=\"_blank\" href=\"http://iccluster044.iccluster.epfl.ch:8088/proxy/application_1589299642358_3830/\">Link</a></td><td><a target=\"_blank\" href=\"http://iccluster068.iccluster.epfl.ch:8042/node/containerlogs/container_e06_1589299642358_3830_01_000001/ebouille\">Link</a></td><td>✔</td></tr></table>"
      ],
      "text/plain": [
       "<IPython.core.display.HTML object>"
      ]
     },
     "metadata": {},
     "output_type": "display_data"
    },
    {
     "data": {
      "application/vnd.jupyter.widget-view+json": {
       "model_id": "",
       "version_major": 2,
       "version_minor": 0
      },
      "text/plain": [
       "FloatProgress(value=0.0, bar_style='info', description='Progress:', layout=Layout(height='25px', width='50%'),…"
      ]
     },
     "metadata": {},
     "output_type": "display_data"
    },
    {
     "name": "stdout",
     "output_type": "stream",
     "text": [
      "SparkSession available as 'spark'.\n"
     ]
    },
    {
     "data": {
      "application/vnd.jupyter.widget-view+json": {
       "model_id": "",
       "version_major": 2,
       "version_minor": 0
      },
      "text/plain": [
       "FloatProgress(value=0.0, bar_style='info', description='Progress:', layout=Layout(height='25px', width='50%'),…"
      ]
     },
     "metadata": {},
     "output_type": "display_data"
    }
   ],
   "source": [
    "# Initialization"
   ]
  },
  {
   "cell_type": "code",
   "execution_count": 3,
   "metadata": {},
   "outputs": [
    {
     "data": {
      "application/vnd.jupyter.widget-view+json": {
       "model_id": "",
       "version_major": 2,
       "version_minor": 0
      },
      "text/plain": [
       "FloatProgress(value=0.0, bar_style='info', description='Progress:', layout=Layout(height='25px', width='50%'),…"
      ]
     },
     "metadata": {},
     "output_type": "display_data"
    }
   ],
   "source": [
    "username = 'mjouve'"
   ]
  },
  {
   "cell_type": "code",
   "execution_count": 4,
   "metadata": {},
   "outputs": [
    {
     "data": {
      "application/vnd.jupyter.widget-view+json": {
       "model_id": "",
       "version_major": 2,
       "version_minor": 0
      },
      "text/plain": [
       "FloatProgress(value=0.0, bar_style='info', description='Progress:', layout=Layout(height='25px', width='50%'),…"
      ]
     },
     "metadata": {},
     "output_type": "display_data"
    }
   ],
   "source": [
    "from pyspark.sql.functions import udf\n",
    "import pyspark.sql.functions as F\n",
    "from datetime import time, datetime, timedelta\n",
    "from collections import defaultdict\n",
    "import numpy as np"
   ]
  },
  {
   "cell_type": "markdown",
   "metadata": {},
   "source": [
    "# Loading filtered dataframes obtain previously\n",
    "\n",
    "_Those dataframes were computed previously in the `to_begin_with.ipynb` notebook. We will now iterate on them while working on the first task of the project, i.e, building a network structure and compute best routes._"
   ]
  },
  {
   "cell_type": "code",
   "execution_count": 5,
   "metadata": {},
   "outputs": [
    {
     "data": {
      "application/vnd.jupyter.widget-view+json": {
       "model_id": "",
       "version_major": 2,
       "version_minor": 0
      },
      "text/plain": [
       "FloatProgress(value=0.0, bar_style='info', description='Progress:', layout=Layout(height='25px', width='50%'),…"
      ]
     },
     "metadata": {},
     "output_type": "display_data"
    }
   ],
   "source": [
    "stops = spark.read.orc(\"/user/{}/zurich_stops.orc\".format(username))"
   ]
  },
  {
   "cell_type": "code",
   "execution_count": 6,
   "metadata": {},
   "outputs": [
    {
     "data": {
      "application/vnd.jupyter.widget-view+json": {
       "model_id": "",
       "version_major": 2,
       "version_minor": 0
      },
      "text/plain": [
       "FloatProgress(value=0.0, bar_style='info', description='Progress:', layout=Layout(height='25px', width='50%'),…"
      ]
     },
     "metadata": {},
     "output_type": "display_data"
    }
   ],
   "source": [
    "reachable_pair_grouped = spark.read.orc(\"/user/{}/reachable_pair_grouped.orc\".format(username))"
   ]
  },
  {
   "cell_type": "code",
   "execution_count": 7,
   "metadata": {},
   "outputs": [
    {
     "data": {
      "application/vnd.jupyter.widget-view+json": {
       "model_id": "",
       "version_major": 2,
       "version_minor": 0
      },
      "text/plain": [
       "FloatProgress(value=0.0, bar_style='info', description='Progress:', layout=Layout(height='25px', width='50%'),…"
      ]
     },
     "metadata": {},
     "output_type": "display_data"
    }
   ],
   "source": [
    "stop_times = spark.read.orc(\"/user/{}/stop_times_filtered.orc\".format(username))"
   ]
  },
  {
   "cell_type": "code",
   "execution_count": 8,
   "metadata": {},
   "outputs": [
    {
     "data": {
      "application/vnd.jupyter.widget-view+json": {
       "model_id": "",
       "version_major": 2,
       "version_minor": 0
      },
      "text/plain": [
       "FloatProgress(value=0.0, bar_style='info', description='Progress:', layout=Layout(height='25px', width='50%'),…"
      ]
     },
     "metadata": {},
     "output_type": "display_data"
    }
   ],
   "source": [
    "connexions = spark.read.orc(\"/user/{}/connexions.orc\".format(username))"
   ]
  },
  {
   "cell_type": "markdown",
   "metadata": {},
   "source": [
    "# 1 - Computing connexions - Jump at the end to load it directly"
   ]
  },
  {
   "cell_type": "markdown",
   "metadata": {},
   "source": [
    "_Our algorithm will need to access to connexions._\n",
    "_A connexion is a tuple consiting of:_\n",
    "- _a departure stop_id_\n",
    "- _a departure time_\n",
    "- _an arrival stop_id_\n",
    "- _an arrival time_\n",
    "- _a trip_id_\n",
    "\n",
    "\n",
    "_Once we have all the connexions, we can build a 1D array of connexions sorted by ascending departure time._"
   ]
  },
  {
   "cell_type": "code",
   "execution_count": 9,
   "metadata": {},
   "outputs": [
    {
     "data": {
      "application/vnd.jupyter.widget-view+json": {
       "model_id": "",
       "version_major": 2,
       "version_minor": 0
      },
      "text/plain": [
       "FloatProgress(value=0.0, bar_style='info', description='Progress:', layout=Layout(height='25px', width='50%'),…"
      ]
     },
     "metadata": {},
     "output_type": "display_data"
    }
   ],
   "source": [
    "stop_times_1 = stop_times.select(stop_times.trip_id.alias('trip_id'),\n",
    "                                 stop_times.stop_id.alias('stop_id_1'),\n",
    "                                 stop_times.arrival_time.alias('arrival_time_1'),\n",
    "                                 stop_times.departure_time.alias('departure_time_1'),\n",
    "                                 stop_times.stop_sequence.alias('stop_sequence_1'))\n",
    "\n",
    "stop_times_2 = stop_times.select(stop_times.trip_id.alias('trip_id'),\n",
    "                                 stop_times.stop_id.alias('stop_id_2'),\n",
    "                                 stop_times.arrival_time.alias('arrival_time_2'),\n",
    "                                 stop_times.departure_time.alias('departure_time_2'),\n",
    "                                 stop_times.stop_sequence.alias('stop_sequence_2'))"
   ]
  },
  {
   "cell_type": "markdown",
   "metadata": {},
   "source": [
    "_We now join the two stop times on the `trip_id`, and with `stop_sequence_1 == stop_sequence_2 - 1`._\n",
    "\n",
    "_We realized that there might be some gaps such as a sequence like 1, 2, 4, 5. It might be some special trips that jump a stop but it can also be that those stops were filtered because they were not inside the 15km cicle of Zürich station. As a result, because we don't want to go outside, we will have two resultings trips: one between 1 and 2 and another between 4 and 5._"
   ]
  },
  {
   "cell_type": "code",
   "execution_count": 10,
   "metadata": {},
   "outputs": [
    {
     "data": {
      "application/vnd.jupyter.widget-view+json": {
       "model_id": "",
       "version_major": 2,
       "version_minor": 0
      },
      "text/plain": [
       "FloatProgress(value=0.0, bar_style='info', description='Progress:', layout=Layout(height='25px', width='50%'),…"
      ]
     },
     "metadata": {},
     "output_type": "display_data"
    }
   ],
   "source": [
    "connexions = stop_times_1.join(stop_times_2, on='trip_id').where(stop_times_1.stop_sequence_1 == (stop_times_2.stop_sequence_2 - 1))\\\n",
    "                        .select('stop_id_1', 'departure_time_1', 'stop_id_2', 'arrival_time_2', 'trip_id')"
   ]
  },
  {
   "cell_type": "markdown",
   "metadata": {},
   "source": [
    "_As indicated, we can assume that the algorithm will be used for common hours (not late nor too early). Thus we only kept the connections that had a departure_time between '01:00:00' '23:00:00'._"
   ]
  },
  {
   "cell_type": "code",
   "execution_count": 11,
   "metadata": {},
   "outputs": [
    {
     "data": {
      "application/vnd.jupyter.widget-view+json": {
       "model_id": "",
       "version_major": 2,
       "version_minor": 0
      },
      "text/plain": [
       "FloatProgress(value=0.0, bar_style='info', description='Progress:', layout=Layout(height='25px', width='50%'),…"
      ]
     },
     "metadata": {},
     "output_type": "display_data"
    }
   ],
   "source": [
    "connexions_filtered = connexions.filter((connexions.departure_time_1 < '23:01:00') \n",
    "                                        & (connexions.departure_time_1 > '00:59:00')) "
   ]
  },
  {
   "cell_type": "code",
   "execution_count": null,
   "metadata": {},
   "outputs": [],
   "source": [
    "connexions_filtered.show(5)"
   ]
  },
  {
   "cell_type": "code",
   "execution_count": 12,
   "metadata": {},
   "outputs": [
    {
     "data": {
      "application/vnd.jupyter.widget-view+json": {
       "model_id": "",
       "version_major": 2,
       "version_minor": 0
      },
      "text/plain": [
       "FloatProgress(value=0.0, bar_style='info', description='Progress:', layout=Layout(height='25px', width='50%'),…"
      ]
     },
     "metadata": {},
     "output_type": "display_data"
    }
   ],
   "source": [
    "# already saved\n",
    "# connexions_filtered.write.format(\"orc\").mode(\"overwrite\").save(\"/user/{}/connexions.orc\".format(username))"
   ]
  },
  {
   "cell_type": "markdown",
   "metadata": {},
   "source": [
    "### Load Obtained DataFrame: connexions"
   ]
  },
  {
   "cell_type": "code",
   "execution_count": 15,
   "metadata": {},
   "outputs": [
    {
     "data": {
      "application/vnd.jupyter.widget-view+json": {
       "model_id": "",
       "version_major": 2,
       "version_minor": 0
      },
      "text/plain": [
       "FloatProgress(value=0.0, bar_style='info', description='Progress:', layout=Layout(height='25px', width='50%'),…"
      ]
     },
     "metadata": {},
     "output_type": "display_data"
    }
   ],
   "source": [
    "connexions = spark.read.orc(\"/user/{}/connexions.orc\".format(username))"
   ]
  },
  {
   "cell_type": "code",
   "execution_count": 16,
   "metadata": {},
   "outputs": [
    {
     "data": {
      "application/vnd.jupyter.widget-view+json": {
       "model_id": "",
       "version_major": 2,
       "version_minor": 0
      },
      "text/plain": [
       "FloatProgress(value=0.0, bar_style='info', description='Progress:', layout=Layout(height='25px', width='50%'),…"
      ]
     },
     "metadata": {},
     "output_type": "display_data"
    },
    {
     "name": "stdout",
     "output_type": "stream",
     "text": [
      "+---------+----------------+---------+--------------+--------------------+\n",
      "|stop_id_1|departure_time_1|stop_id_2|arrival_time_2|             trip_id|\n",
      "+---------+----------------+---------+--------------+--------------------+\n",
      "|  8503051|        05:09:00|  8503052|      05:11:00|1.TA.26-10-B-j19-...|\n",
      "+---------+----------------+---------+--------------+--------------------+\n",
      "only showing top 1 row"
     ]
    }
   ],
   "source": [
    "connexions.show(1)"
   ]
  },
  {
   "cell_type": "markdown",
   "metadata": {},
   "source": [
    "# 2 - Obtain footpath dictionary - Jump at the end for loading the DataFrame"
   ]
  },
  {
   "cell_type": "code",
   "execution_count": 21,
   "metadata": {},
   "outputs": [
    {
     "data": {
      "application/vnd.jupyter.widget-view+json": {
       "model_id": "",
       "version_major": 2,
       "version_minor": 0
      },
      "text/plain": [
       "FloatProgress(value=0.0, bar_style='info', description='Progress:', layout=Layout(height='25px', width='50%'),…"
      ]
     },
     "metadata": {},
     "output_type": "display_data"
    }
   ],
   "source": [
    "reachable_pair = spark.read.orc(\"/user/{}/zurich_reachable_pair.orc\".format(username))"
   ]
  },
  {
   "cell_type": "code",
   "execution_count": 17,
   "metadata": {},
   "outputs": [
    {
     "data": {
      "application/vnd.jupyter.widget-view+json": {
       "model_id": "",
       "version_major": 2,
       "version_minor": 0
      },
      "text/plain": [
       "FloatProgress(value=0.0, bar_style='info', description='Progress:', layout=Layout(height='25px', width='50%'),…"
      ]
     },
     "metadata": {},
     "output_type": "display_data"
    }
   ],
   "source": [
    "@udf\n",
    "def from_distance_to_duration(distance):\n",
    "    \"\"\"\n",
    "    Given a walking distance in m as input, compute the duration of the walking trip.\n",
    "    \"\"\"\n",
    "    distance = float(distance)\n",
    "    seconds = distance / 50 * 60\n",
    "    \n",
    "    # take into account the 2min changement time\n",
    "    return round(seconds)"
   ]
  },
  {
   "cell_type": "code",
   "execution_count": 22,
   "metadata": {},
   "outputs": [
    {
     "data": {
      "application/vnd.jupyter.widget-view+json": {
       "model_id": "",
       "version_major": 2,
       "version_minor": 0
      },
      "text/plain": [
       "FloatProgress(value=0.0, bar_style='info', description='Progress:', layout=Layout(height='25px', width='50%'),…"
      ]
     },
     "metadata": {},
     "output_type": "display_data"
    }
   ],
   "source": [
    "from pyspark.sql.types import ArrayType, StringType\n",
    "\n",
    "@udf(ArrayType(StringType()))\n",
    "def from_columns_to_tuple(column_1, column_2):\n",
    "    \"\"\"\n",
    "    Takes as input two values found in two column and returns an array containing the two values (as string)\n",
    "    \"\"\"\n",
    "    \n",
    "    return [column_1, column_2]"
   ]
  },
  {
   "cell_type": "code",
   "execution_count": 23,
   "metadata": {},
   "outputs": [
    {
     "data": {
      "application/vnd.jupyter.widget-view+json": {
       "model_id": "",
       "version_major": 2,
       "version_minor": 0
      },
      "text/plain": [
       "FloatProgress(value=0.0, bar_style='info', description='Progress:', layout=Layout(height='25px', width='50%'),…"
      ]
     },
     "metadata": {},
     "output_type": "display_data"
    }
   ],
   "source": [
    "reachable_pair_time = reachable_pair.withColumn('duration_s', from_distance_to_duration(reachable_pair.distance))"
   ]
  },
  {
   "cell_type": "code",
   "execution_count": 24,
   "metadata": {},
   "outputs": [
    {
     "data": {
      "application/vnd.jupyter.widget-view+json": {
       "model_id": "",
       "version_major": 2,
       "version_minor": 0
      },
      "text/plain": [
       "FloatProgress(value=0.0, bar_style='info', description='Progress:', layout=Layout(height='25px', width='50%'),…"
      ]
     },
     "metadata": {},
     "output_type": "display_data"
    }
   ],
   "source": [
    "reachable_pair_dest = reachable_pair_time.select(reachable_pair_time.id_1,\n",
    "                                                from_columns_to_tuple(reachable_pair_time.id_2,  \n",
    "                                                                      reachable_pair_time.duration_s).alias('destination'))"
   ]
  },
  {
   "cell_type": "markdown",
   "metadata": {},
   "source": [
    "_We now group the row by `id_1` to obtain for each station_id, a list of reachable stations by walk with the walk duration in seconds._"
   ]
  },
  {
   "cell_type": "code",
   "execution_count": 25,
   "metadata": {},
   "outputs": [
    {
     "data": {
      "application/vnd.jupyter.widget-view+json": {
       "model_id": "",
       "version_major": 2,
       "version_minor": 0
      },
      "text/plain": [
       "FloatProgress(value=0.0, bar_style='info', description='Progress:', layout=Layout(height='25px', width='50%'),…"
      ]
     },
     "metadata": {},
     "output_type": "display_data"
    }
   ],
   "source": [
    "reachable_pair_grouped = reachable_pair_dest.groupBy(['id_1']).agg(F.collect_list('destination').alias('destinations'))"
   ]
  },
  {
   "cell_type": "code",
   "execution_count": 26,
   "metadata": {},
   "outputs": [
    {
     "data": {
      "application/vnd.jupyter.widget-view+json": {
       "model_id": "",
       "version_major": 2,
       "version_minor": 0
      },
      "text/plain": [
       "FloatProgress(value=0.0, bar_style='info', description='Progress:', layout=Layout(height='25px', width='50%'),…"
      ]
     },
     "metadata": {},
     "output_type": "display_data"
    }
   ],
   "source": [
    "# already saved\n",
    "# reachable_pair_grouped.write.format(\"orc\").mode(\"overwrite\").save(\"/user/{}/reachable_pair_grouped.orc\".format(username))"
   ]
  },
  {
   "cell_type": "markdown",
   "metadata": {},
   "source": [
    "### Loading previous dataframe"
   ]
  },
  {
   "cell_type": "code",
   "execution_count": 27,
   "metadata": {},
   "outputs": [
    {
     "data": {
      "application/vnd.jupyter.widget-view+json": {
       "model_id": "",
       "version_major": 2,
       "version_minor": 0
      },
      "text/plain": [
       "FloatProgress(value=0.0, bar_style='info', description='Progress:', layout=Layout(height='25px', width='50%'),…"
      ]
     },
     "metadata": {},
     "output_type": "display_data"
    }
   ],
   "source": [
    "reachable_pair_grouped = spark.read.orc(\"/user/{}/reachable_pair_grouped.orc\".format(username))"
   ]
  },
  {
   "cell_type": "code",
   "execution_count": 28,
   "metadata": {},
   "outputs": [
    {
     "data": {
      "application/vnd.jupyter.widget-view+json": {
       "model_id": "",
       "version_major": 2,
       "version_minor": 0
      },
      "text/plain": [
       "FloatProgress(value=0.0, bar_style='info', description='Progress:', layout=Layout(height='25px', width='50%'),…"
      ]
     },
     "metadata": {},
     "output_type": "display_data"
    },
    {
     "name": "stdout",
     "output_type": "stream",
     "text": [
      "+-------+--------------------+\n",
      "|   id_1|        destinations|\n",
      "+-------+--------------------+\n",
      "|8576223|[[8590704, 448.0]...|\n",
      "+-------+--------------------+\n",
      "only showing top 1 row"
     ]
    }
   ],
   "source": [
    "reachable_pair_grouped.show(1)"
   ]
  },
  {
   "cell_type": "code",
   "execution_count": 29,
   "metadata": {},
   "outputs": [
    {
     "data": {
      "application/vnd.jupyter.widget-view+json": {
       "model_id": "",
       "version_major": 2,
       "version_minor": 0
      },
      "text/plain": [
       "FloatProgress(value=0.0, bar_style='info', description='Progress:', layout=Layout(height='25px', width='50%'),…"
      ]
     },
     "metadata": {},
     "output_type": "display_data"
    }
   ],
   "source": [
    "def compute_footpaths_dict(reachable_pair_df):\n",
    "    \"\"\"\n",
    "    Given a pyspark Dataframe of reachable pairs grouped,\n",
    "    returns the footpaths dictionary used by our algorithm\n",
    "    \"\"\"\n",
    "    return dict(((row.id_1, row.destinations) for row in reachable_pair_df.collect()))"
   ]
  },
  {
   "cell_type": "markdown",
   "metadata": {},
   "source": [
    "# 2 - Route planning algorithm"
   ]
  },
  {
   "cell_type": "markdown",
   "metadata": {},
   "source": [
    "## A. Obtain the array of connexions"
   ]
  },
  {
   "cell_type": "code",
   "execution_count": 30,
   "metadata": {},
   "outputs": [
    {
     "data": {
      "application/vnd.jupyter.widget-view+json": {
       "model_id": "",
       "version_major": 2,
       "version_minor": 0
      },
      "text/plain": [
       "FloatProgress(value=0.0, bar_style='info', description='Progress:', layout=Layout(height='25px', width='50%'),…"
      ]
     },
     "metadata": {},
     "output_type": "display_data"
    }
   ],
   "source": [
    "def to_datetime(str_time):\n",
    "    \"\"\"\n",
    "    Given a string representing a time (format 'H:M:s', H: hour, M: minute, s:second), convert it to a datetime object\n",
    "    \"\"\"\n",
    "    hour, minute, second = str_time.split(':')\n",
    "    \n",
    "    # convert it to int and remove potential errors by taking a modulo\n",
    "    hour = int(hour) % 24\n",
    "    minute = int(minute) % 60\n",
    "    second = int(second) % 60\n",
    "    \n",
    "    # the year, month and day are dummies heres\n",
    "    return datetime(year=2020, month=1, day=1, hour=hour, minute=minute, second=second)"
   ]
  },
  {
   "cell_type": "code",
   "execution_count": 31,
   "metadata": {},
   "outputs": [
    {
     "data": {
      "application/vnd.jupyter.widget-view+json": {
       "model_id": "",
       "version_major": 2,
       "version_minor": 0
      },
      "text/plain": [
       "FloatProgress(value=0.0, bar_style='info', description='Progress:', layout=Layout(height='25px', width='50%'),…"
      ]
     },
     "metadata": {},
     "output_type": "display_data"
    }
   ],
   "source": [
    "def sort_connexions(connexions_df, departure = True):\n",
    "    \"\"\"\n",
    "    Given a pyspark DataFrame of connexions, returns an array of sorted connexions in ascending order of departure\n",
    "    if departure = True, else in descending order of arrival\n",
    "    \"\"\"\n",
    "\n",
    "    connexions_array = [{'departure_location': row.stop_id_1, \n",
    "                         'departure_time': to_datetime(row.departure_time_1), \n",
    "                         'arrival_location': row.stop_id_2, \n",
    "                         'arrival_time': to_datetime(row.arrival_time_2), \n",
    "                         'trip_id': row.trip_id} for row in connexions_df.collect()]\n",
    "    \n",
    "    if departure:\n",
    "        sorted_connexions = sorted(connexions_array, key = (lambda tup: tup['departure_time']))\n",
    "    \n",
    "    else:\n",
    "        sorted_connexions = sorted(connexions_array, key = (lambda tup: tup['arrival_time']), reverse = True)\n",
    "        \n",
    "    return sorted_connexions"
   ]
  },
  {
   "cell_type": "markdown",
   "metadata": {},
   "source": [
    "## B. Obtain the arrival times dictionary"
   ]
  },
  {
   "cell_type": "markdown",
   "metadata": {},
   "source": [
    "_For each `stop_id`, we map it to its earliest arrival time. When initialized we map it to an \"infinite\" date if `positive_infinite` is True else a \"negative infinite\" date._"
   ]
  },
  {
   "cell_type": "code",
   "execution_count": 32,
   "metadata": {},
   "outputs": [
    {
     "data": {
      "application/vnd.jupyter.widget-view+json": {
       "model_id": "",
       "version_major": 2,
       "version_minor": 0
      },
      "text/plain": [
       "FloatProgress(value=0.0, bar_style='info', description='Progress:', layout=Layout(height='25px', width='50%'),…"
      ]
     },
     "metadata": {},
     "output_type": "display_data"
    }
   ],
   "source": [
    "def construct_times_dict(stops_df, positive_infinite = True):\n",
    "    \"\"\"\n",
    "    Given a pyspark DataFrame of stops, construct the times dictionary used by the algorithm\n",
    "    \"\"\"\n",
    "    \n",
    "    if positive_infinite:\n",
    "        times = dict(((row.stop_id, \n",
    "               (datetime(year=2020, month=1, day=6, hour=23, minute=59, second = 59), None)) \n",
    "              for row in stops.select(stops_df.stop_id).collect()))\n",
    "    else:\n",
    "        times = dict(((row.stop_id, \n",
    "               (datetime(year=2019, month=1, day=1, hour=23, minute=59, second = 59), None)) \n",
    "              for row in stops.select(stops_df.stop_id).collect()))\n",
    "    \n",
    "    return times"
   ]
  },
  {
   "cell_type": "markdown",
   "metadata": {},
   "source": [
    "## C. Running the algorithm and printing route"
   ]
  },
  {
   "cell_type": "markdown",
   "metadata": {},
   "source": [
    "_We can now run the algorithm:_"
   ]
  },
  {
   "cell_type": "code",
   "execution_count": 33,
   "metadata": {
    "scrolled": true
   },
   "outputs": [
    {
     "data": {
      "application/vnd.jupyter.widget-view+json": {
       "model_id": "",
       "version_major": 2,
       "version_minor": 0
      },
      "text/plain": [
       "FloatProgress(value=0.0, bar_style='info', description='Progress:', layout=Layout(height='25px', width='50%'),…"
      ]
     },
     "metadata": {},
     "output_type": "display_data"
    }
   ],
   "source": [
    "def updates_times_dict_given_departure(times, sorted_connexions, footpaths, departure_location, departure_time):\n",
    "    \"\"\"\n",
    "    Given an initialized times dictionary, the array of sorted connexion, the footpaths dictionary\n",
    "    a departure_location given as a stop_id (str),\n",
    "    and a departure time (datetime object)\n",
    "    updates the times dictionary\n",
    "    \"\"\"\n",
    "    \n",
    "    times[departure_location] = (departure_time, None)\n",
    "\n",
    "    # Initalize a dictionary of trips taken. For each trip already taken, \n",
    "    # we map it to the first departure location and departure time where we could have taken this trip. \n",
    "    # Returns None if the key is not assigned to another value thanks to defaultdict.\n",
    "    trips_taken = defaultdict(lambda: None)\n",
    "\n",
    "    # Iterate over connexions in sorted order\n",
    "    for c in sorted_connexions:\n",
    "    \n",
    "        # trip_id of the current connexion\n",
    "        trip_id = c['trip_id']\n",
    "    \n",
    "        # departure location of the current connexion\n",
    "        departure_location = c['departure_location']\n",
    "    \n",
    "        # departure time of the current connexion\n",
    "        departure_time = c['departure_time']\n",
    "    \n",
    "        # arrival location of the current connexion\n",
    "        arrival_location = c['arrival_location']\n",
    "    \n",
    "        # arrival time of the current connexion\n",
    "        arrival_time = c['arrival_time']\n",
    "    \n",
    "        # If current trip could have been taken earlier\n",
    "        if trips_taken[trip_id]:\n",
    "        \n",
    "            # obtain data about this current trip (where we could have taken it and when)\n",
    "            trip_data = trips_taken[trip_id]\n",
    "        \n",
    "            # if arrival_time is earlier than the current best time assigned for this location\n",
    "            if arrival_time < times[arrival_location][0]:\n",
    "            \n",
    "                # update arrival time as well as connexion data for this arrival location\n",
    "                times[arrival_location] = (arrival_time, {'departure_location': trip_data[0],\n",
    "                                                              'departure_time': trip_data[1],\n",
    "                                                              'arrival_location':arrival_location,\n",
    "                                                              'arrival_time': arrival_time,\n",
    "                                                              'trip_id': trip_id})\n",
    "            \n",
    "                # obtain the stops reachable by walking\n",
    "                reachable_stops_walking = footpaths.get(arrival_location, None)\n",
    "            \n",
    "            \n",
    "                if reachable_stops_walking:\n",
    "                \n",
    "                    # for each possible destination\n",
    "                    for destination in reachable_stops_walking:\n",
    "                    \n",
    "                        # obtain the stop_id\n",
    "                        location = destination[0]\n",
    "                    \n",
    "                        # obtain the current arrival time\n",
    "                        curr_arrival_time = times[location][0]    \n",
    "      \n",
    "                        # obtain the walk duration from arrival_location (convert it to float)\n",
    "                        walking_time = float(destination[1])\n",
    "                    \n",
    "                        # compute the new arrival time if using this path\n",
    "                        new_arrival_time = arrival_time + timedelta(seconds = walking_time)\n",
    "                    \n",
    "                    \n",
    "                        # if it improves the current best arrival time, we update our dictionary\n",
    "                        if new_arrival_time < curr_arrival_time:\n",
    "                            times[location] = (new_arrival_time, {'departure_location': arrival_location,\n",
    "                                                              'departure_time': arrival_time,\n",
    "                                                              'arrival_location':location,\n",
    "                                                              'arrival_time': new_arrival_time,\n",
    "                                                              'trip_id': 'Walking during {s} seconds'.format(s = walking_time)})\n",
    "        \n",
    "    \n",
    "        # if we can take this connexion\n",
    "        elif (times[departure_location][0] + timedelta(seconds = 120)) <= departure_time:\n",
    "\n",
    "            # update trips taken with this new trip\n",
    "            trips_taken[trip_id] = (departure_location, departure_time)\n",
    "        \n",
    "            # if the arrival time is better than the current best\n",
    "            if arrival_time < times[arrival_location][0]:\n",
    "            \n",
    "                # update the best time for the arrival location\n",
    "                times[arrival_location] = (arrival_time, c)           \n",
    "            \n",
    "            \n",
    "                # obtain the stops reachable by walking\n",
    "                reachable_stops_walking = footpaths.get(arrival_location, None)\n",
    "            \n",
    "                if reachable_stops_walking:\n",
    "                \n",
    "                    # for each possible destination\n",
    "                    for destination in reachable_stops_walking:\n",
    "                    \n",
    "                        # obtain the stop_id\n",
    "                        location = destination[0]\n",
    "                    \n",
    "                        # obtain the current arrival time\n",
    "                        curr_arrival_time = times[location][0]    \n",
    "                      \n",
    "                        # obtain the walk duration from arrival_location (convert it to float)\n",
    "                        walking_time = float(destination[1])\n",
    "                    \n",
    "                        # compute the new arrival time if using this path\n",
    "                        new_arrival_time = arrival_time + timedelta(seconds = walking_time)\n",
    "                    \n",
    "                    \n",
    "                        # if it improves the current best arrival time, we update our dictionary\n",
    "                        if new_arrival_time < curr_arrival_time:\n",
    "                            times[location] = (new_arrival_time, {'departure_location': arrival_location,\n",
    "                                                              'departure_time': arrival_time,\n",
    "                                                              'arrival_location':location,\n",
    "                                                              'arrival_time': new_arrival_time,\n",
    "                                                              'trip_id': 'Walking during {s} seconds'.format(s = walking_time)})            "
   ]
  },
  {
   "cell_type": "code",
   "execution_count": 34,
   "metadata": {},
   "outputs": [
    {
     "data": {
      "application/vnd.jupyter.widget-view+json": {
       "model_id": "",
       "version_major": 2,
       "version_minor": 0
      },
      "text/plain": [
       "FloatProgress(value=0.0, bar_style='info', description='Progress:', layout=Layout(height='25px', width='50%'),…"
      ]
     },
     "metadata": {},
     "output_type": "display_data"
    }
   ],
   "source": [
    "def backward(departure_stop, arrival_stop, times):\n",
    "    \"\"\"\n",
    "    Returns a list of paths taken from departure_stop to arrival_stop given the times dictionary computed\n",
    "    \"\"\"\n",
    "    \n",
    "    paths = []\n",
    "    \n",
    "    current_connexion = times[arrival_stop][1]\n",
    "    current_stop = None\n",
    "    \n",
    "    while current_stop != departure_stop:\n",
    "        \n",
    "        current_stop = current_connexion['departure_location']\n",
    "        arrival_location = current_connexion['arrival_location']\n",
    "        trip = current_connexion['trip_id']\n",
    "        \n",
    "        if 'Walking' in trip:\n",
    "            path = trip + ' from {d} to {a}'.format(d = current_stop, a = arrival_location)\n",
    "        \n",
    "        else:\n",
    "            path = 'From {d_l} (at {d_t}) to {a_l} (at {a_t}) using trip: {t}'.format(d_l = current_stop,\n",
    "                                                                                      d_t = current_connexion['departure_time'].time(),\n",
    "                                                                                      a_l = arrival_location,\n",
    "                                                                                      a_t = current_connexion['arrival_time'].time(),\n",
    "                                                                                      t = current_connexion['trip_id'])\n",
    "        \n",
    "        paths.append(path)\n",
    "        \n",
    "        \n",
    "        current_connexion = times[current_stop][1]\n",
    "        \n",
    "    \n",
    "    return paths[::-1] "
   ]
  },
  {
   "cell_type": "code",
   "execution_count": 35,
   "metadata": {},
   "outputs": [
    {
     "data": {
      "application/vnd.jupyter.widget-view+json": {
       "model_id": "",
       "version_major": 2,
       "version_minor": 0
      },
      "text/plain": [
       "FloatProgress(value=0.0, bar_style='info', description='Progress:', layout=Layout(height='25px', width='50%'),…"
      ]
     },
     "metadata": {},
     "output_type": "display_data"
    }
   ],
   "source": [
    "def compute_best_path_from_departure(departure_stop, departure_time, arrival_stop, times, sorted_connexions, footpaths):\n",
    "    \"\"\"\n",
    "    Given a departure_stop (str), a departure_time (str in the format HH:MM:ss with HH:hour, MM: minute, ss: second),\n",
    "    the times dictionary, the sorted connexions array, and the footpaths dictionary\n",
    "    returns the best route possible as an array of paths\n",
    "    \"\"\"\n",
    "    hour, minute, second = departure_time.split(':')\n",
    "    hour = int(hour)\n",
    "    minute = int(minute)\n",
    "    second = int(second)\n",
    "    \n",
    "    departure_time_datetime = datetime(year=2020, month=1, day=1, hour=hour, minute=minute, second=second)\n",
    "    \n",
    "    updates_times_dict_given_departure(times, sorted_connexions, footpaths, departure_stop, departure_time_datetime)\n",
    "    \n",
    "    paths = backward(departure_stop, arrival_stop, times)\n",
    "    \n",
    "    return paths\n",
    "    "
   ]
  },
  {
   "cell_type": "markdown",
   "metadata": {},
   "source": [
    "# Running the algorithm"
   ]
  },
  {
   "cell_type": "code",
   "execution_count": 36,
   "metadata": {},
   "outputs": [
    {
     "data": {
      "application/vnd.jupyter.widget-view+json": {
       "model_id": "",
       "version_major": 2,
       "version_minor": 0
      },
      "text/plain": [
       "FloatProgress(value=0.0, bar_style='info', description='Progress:', layout=Layout(height='25px', width='50%'),…"
      ]
     },
     "metadata": {},
     "output_type": "display_data"
    }
   ],
   "source": [
    "sorted_connexions = sort_connexions(connexions)"
   ]
  },
  {
   "cell_type": "code",
   "execution_count": 37,
   "metadata": {},
   "outputs": [
    {
     "data": {
      "application/vnd.jupyter.widget-view+json": {
       "model_id": "",
       "version_major": 2,
       "version_minor": 0
      },
      "text/plain": [
       "FloatProgress(value=0.0, bar_style='info', description='Progress:', layout=Layout(height='25px', width='50%'),…"
      ]
     },
     "metadata": {},
     "output_type": "display_data"
    }
   ],
   "source": [
    "footpaths = compute_footpaths_dict(reachable_pair_grouped)"
   ]
  },
  {
   "cell_type": "code",
   "execution_count": 38,
   "metadata": {},
   "outputs": [
    {
     "data": {
      "application/vnd.jupyter.widget-view+json": {
       "model_id": "",
       "version_major": 2,
       "version_minor": 0
      },
      "text/plain": [
       "FloatProgress(value=0.0, bar_style='info', description='Progress:', layout=Layout(height='25px', width='50%'),…"
      ]
     },
     "metadata": {},
     "output_type": "display_data"
    }
   ],
   "source": [
    "# need to be refresh before each used\n",
    "times = construct_times_dict(stops)\n",
    "\n",
    "departure_stop = '8503000'\n",
    "departure_time = '12:01:00'\n",
    "arrival_stop = '8591049'"
   ]
  },
  {
   "cell_type": "code",
   "execution_count": 39,
   "metadata": {},
   "outputs": [
    {
     "data": {
      "application/vnd.jupyter.widget-view+json": {
       "model_id": "",
       "version_major": 2,
       "version_minor": 0
      },
      "text/plain": [
       "FloatProgress(value=0.0, bar_style='info', description='Progress:', layout=Layout(height='25px', width='50%'),…"
      ]
     },
     "metadata": {},
     "output_type": "display_data"
    }
   ],
   "source": [
    "paths = compute_best_path_from_departure(departure_stop,\n",
    "                                         departure_time,\n",
    "                                         arrival_stop,\n",
    "                                         times,\n",
    "                                         sorted_connexions,\n",
    "                                         footpaths)"
   ]
  },
  {
   "cell_type": "code",
   "execution_count": 40,
   "metadata": {},
   "outputs": [
    {
     "data": {
      "application/vnd.jupyter.widget-view+json": {
       "model_id": "",
       "version_major": 2,
       "version_minor": 0
      },
      "text/plain": [
       "FloatProgress(value=0.0, bar_style='info', description='Progress:', layout=Layout(height='25px', width='50%'),…"
      ]
     },
     "metadata": {},
     "output_type": "display_data"
    },
    {
     "name": "stdout",
     "output_type": "stream",
     "text": [
      "From 8503000 (at 12:05:00) to 8503006 (at 12:11:00) using trip: 32.TA.80-159-Y-j19-1.8.H\n",
      "Walking during 72.0 seconds from 8503006 to 8580449\n",
      "From 8580449 (at 12:15:00) to 8591049 (at 12:24:00) using trip: 1914.TA.26-11-A-j19-1.27.R"
     ]
    }
   ],
   "source": [
    "for path in paths:\n",
    "    print(path)"
   ]
  },
  {
   "cell_type": "markdown",
   "metadata": {},
   "source": [
    "# Next step:\n",
    "\n",
    "_Now that we implemented the basic algorithm we wanted to improve it to have multiple routes. The next implementation is shown in the `route_planning_top_k.ipynb` notebook._"
   ]
  },
  {
   "cell_type": "code",
   "execution_count": null,
   "metadata": {},
   "outputs": [],
   "source": []
  }
 ],
 "metadata": {
  "kernelspec": {
   "display_name": "PySpark",
   "language": "",
   "name": "pysparkkernel"
  },
  "language_info": {
   "codemirror_mode": {
    "name": "python",
    "version": 3
   },
   "mimetype": "text/x-python",
   "name": "pyspark",
   "pygments_lexer": "python3"
  }
 },
 "nbformat": 4,
 "nbformat_minor": 4
}
