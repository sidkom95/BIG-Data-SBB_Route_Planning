{
 "cells": [
  {
   "cell_type": "markdown",
   "metadata": {},
   "source": [
    "# Route planning finding the top K routes"
   ]
  },
  {
   "cell_type": "markdown",
   "metadata": {},
   "source": [
    "_Now that we can compute one path, we wanted to have multiple options. We achieved this by having an array of arrival times for the final stop._"
   ]
  },
  {
   "cell_type": "code",
   "execution_count": 1,
   "metadata": {},
   "outputs": [
    {
     "data": {
      "text/html": [
       "Current session configs: <tt>{'conf': {'spark.app.name': 'group100_final'}, 'kind': 'pyspark'}</tt><br>"
      ],
      "text/plain": [
       "<IPython.core.display.HTML object>"
      ]
     },
     "metadata": {},
     "output_type": "display_data"
    },
    {
     "data": {
      "text/html": [
       "<table>\n",
       "<tr><th>ID</th><th>YARN Application ID</th><th>Kind</th><th>State</th><th>Spark UI</th><th>Driver log</th><th>Current session?</th></tr><tr><td>9346</td><td>application_1589299642358_3926</td><td>pyspark</td><td>idle</td><td><a target=\"_blank\" href=\"http://iccluster044.iccluster.epfl.ch:8088/proxy/application_1589299642358_3926/\">Link</a></td><td><a target=\"_blank\" href=\"http://iccluster069.iccluster.epfl.ch:8042/node/containerlogs/container_e06_1589299642358_3926_01_000001/ebouille\">Link</a></td><td></td></tr><tr><td>9363</td><td>application_1589299642358_3943</td><td>pyspark</td><td>idle</td><td><a target=\"_blank\" href=\"http://iccluster044.iccluster.epfl.ch:8088/proxy/application_1589299642358_3943/\">Link</a></td><td><a target=\"_blank\" href=\"http://iccluster066.iccluster.epfl.ch:8042/node/containerlogs/container_e06_1589299642358_3943_01_000001/ebouille\">Link</a></td><td></td></tr><tr><td>9369</td><td>application_1589299642358_3949</td><td>pyspark</td><td>idle</td><td><a target=\"_blank\" href=\"http://iccluster044.iccluster.epfl.ch:8088/proxy/application_1589299642358_3949/\">Link</a></td><td><a target=\"_blank\" href=\"http://iccluster069.iccluster.epfl.ch:8042/node/containerlogs/container_e06_1589299642358_3949_01_000001/ebouille\">Link</a></td><td></td></tr><tr><td>9376</td><td>application_1589299642358_3956</td><td>pyspark</td><td>idle</td><td><a target=\"_blank\" href=\"http://iccluster044.iccluster.epfl.ch:8088/proxy/application_1589299642358_3956/\">Link</a></td><td><a target=\"_blank\" href=\"http://iccluster068.iccluster.epfl.ch:8042/node/containerlogs/container_e06_1589299642358_3956_01_000001/ebouille\">Link</a></td><td></td></tr><tr><td>9379</td><td>application_1589299642358_3959</td><td>pyspark</td><td>idle</td><td><a target=\"_blank\" href=\"http://iccluster044.iccluster.epfl.ch:8088/proxy/application_1589299642358_3959/\">Link</a></td><td><a target=\"_blank\" href=\"http://iccluster066.iccluster.epfl.ch:8042/node/containerlogs/container_e06_1589299642358_3959_01_000001/ebouille\">Link</a></td><td></td></tr><tr><td>9380</td><td>application_1589299642358_3960</td><td>pyspark</td><td>idle</td><td><a target=\"_blank\" href=\"http://iccluster044.iccluster.epfl.ch:8088/proxy/application_1589299642358_3960/\">Link</a></td><td><a target=\"_blank\" href=\"http://iccluster071.iccluster.epfl.ch:8042/node/containerlogs/container_e06_1589299642358_3960_01_000001/ebouille\">Link</a></td><td></td></tr><tr><td>9382</td><td>application_1589299642358_3962</td><td>pyspark</td><td>idle</td><td><a target=\"_blank\" href=\"http://iccluster044.iccluster.epfl.ch:8088/proxy/application_1589299642358_3962/\">Link</a></td><td><a target=\"_blank\" href=\"http://iccluster069.iccluster.epfl.ch:8042/node/containerlogs/container_e06_1589299642358_3962_01_000001/ebouille\">Link</a></td><td></td></tr><tr><td>9383</td><td>application_1589299642358_3963</td><td>pyspark</td><td>idle</td><td><a target=\"_blank\" href=\"http://iccluster044.iccluster.epfl.ch:8088/proxy/application_1589299642358_3963/\">Link</a></td><td><a target=\"_blank\" href=\"http://iccluster070.iccluster.epfl.ch:8042/node/containerlogs/container_e06_1589299642358_3963_01_000001/ebouille\">Link</a></td><td></td></tr><tr><td>9384</td><td>application_1589299642358_3964</td><td>pyspark</td><td>idle</td><td><a target=\"_blank\" href=\"http://iccluster044.iccluster.epfl.ch:8088/proxy/application_1589299642358_3964/\">Link</a></td><td><a target=\"_blank\" href=\"http://iccluster065.iccluster.epfl.ch:8042/node/containerlogs/container_e06_1589299642358_3964_01_000001/ebouille\">Link</a></td><td></td></tr><tr><td>9385</td><td>application_1589299642358_3965</td><td>pyspark</td><td>idle</td><td><a target=\"_blank\" href=\"http://iccluster044.iccluster.epfl.ch:8088/proxy/application_1589299642358_3965/\">Link</a></td><td><a target=\"_blank\" href=\"http://iccluster072.iccluster.epfl.ch:8042/node/containerlogs/container_e06_1589299642358_3965_01_000001/ebouille\">Link</a></td><td></td></tr><tr><td>9387</td><td>application_1589299642358_3967</td><td>pyspark</td><td>busy</td><td><a target=\"_blank\" href=\"http://iccluster044.iccluster.epfl.ch:8088/proxy/application_1589299642358_3967/\">Link</a></td><td><a target=\"_blank\" href=\"http://iccluster068.iccluster.epfl.ch:8042/node/containerlogs/container_e06_1589299642358_3967_01_000001/ebouille\">Link</a></td><td></td></tr><tr><td>9388</td><td>application_1589299642358_3970</td><td>pyspark</td><td>idle</td><td><a target=\"_blank\" href=\"http://iccluster044.iccluster.epfl.ch:8088/proxy/application_1589299642358_3970/\">Link</a></td><td><a target=\"_blank\" href=\"http://iccluster065.iccluster.epfl.ch:8042/node/containerlogs/container_e06_1589299642358_3970_01_000001/ebouille\">Link</a></td><td></td></tr><tr><td>9389</td><td>application_1589299642358_3971</td><td>pyspark</td><td>idle</td><td><a target=\"_blank\" href=\"http://iccluster044.iccluster.epfl.ch:8088/proxy/application_1589299642358_3971/\">Link</a></td><td><a target=\"_blank\" href=\"http://iccluster070.iccluster.epfl.ch:8042/node/containerlogs/container_e06_1589299642358_3971_01_000001/ebouille\">Link</a></td><td></td></tr><tr><td>9391</td><td>application_1589299642358_3973</td><td>pyspark</td><td>idle</td><td><a target=\"_blank\" href=\"http://iccluster044.iccluster.epfl.ch:8088/proxy/application_1589299642358_3973/\">Link</a></td><td><a target=\"_blank\" href=\"http://iccluster071.iccluster.epfl.ch:8042/node/containerlogs/container_e06_1589299642358_3973_01_000002/ebouille\">Link</a></td><td></td></tr><tr><td>9393</td><td>application_1589299642358_3975</td><td>pyspark</td><td>idle</td><td><a target=\"_blank\" href=\"http://iccluster044.iccluster.epfl.ch:8088/proxy/application_1589299642358_3975/\">Link</a></td><td><a target=\"_blank\" href=\"http://iccluster068.iccluster.epfl.ch:8042/node/containerlogs/container_e06_1589299642358_3975_01_000001/ebouille\">Link</a></td><td></td></tr><tr><td>9394</td><td>application_1589299642358_3977</td><td>pyspark</td><td>idle</td><td><a target=\"_blank\" href=\"http://iccluster044.iccluster.epfl.ch:8088/proxy/application_1589299642358_3977/\">Link</a></td><td><a target=\"_blank\" href=\"http://iccluster066.iccluster.epfl.ch:8042/node/containerlogs/container_e06_1589299642358_3977_01_000001/ebouille\">Link</a></td><td></td></tr><tr><td>9396</td><td>application_1589299642358_3979</td><td>pyspark</td><td>busy</td><td><a target=\"_blank\" href=\"http://iccluster044.iccluster.epfl.ch:8088/proxy/application_1589299642358_3979/\">Link</a></td><td><a target=\"_blank\" href=\"http://iccluster069.iccluster.epfl.ch:8042/node/containerlogs/container_e06_1589299642358_3979_01_000001/ebouille\">Link</a></td><td></td></tr><tr><td>9397</td><td>application_1589299642358_3980</td><td>pyspark</td><td>idle</td><td><a target=\"_blank\" href=\"http://iccluster044.iccluster.epfl.ch:8088/proxy/application_1589299642358_3980/\">Link</a></td><td><a target=\"_blank\" href=\"http://iccluster069.iccluster.epfl.ch:8042/node/containerlogs/container_e06_1589299642358_3980_01_000001/ebouille\">Link</a></td><td></td></tr><tr><td>9398</td><td>application_1589299642358_3981</td><td>pyspark</td><td>idle</td><td><a target=\"_blank\" href=\"http://iccluster044.iccluster.epfl.ch:8088/proxy/application_1589299642358_3981/\">Link</a></td><td><a target=\"_blank\" href=\"http://iccluster070.iccluster.epfl.ch:8042/node/containerlogs/container_e06_1589299642358_3981_01_000001/ebouille\">Link</a></td><td></td></tr><tr><td>9399</td><td>application_1589299642358_3982</td><td>pyspark</td><td>idle</td><td><a target=\"_blank\" href=\"http://iccluster044.iccluster.epfl.ch:8088/proxy/application_1589299642358_3982/\">Link</a></td><td><a target=\"_blank\" href=\"http://iccluster069.iccluster.epfl.ch:8042/node/containerlogs/container_e06_1589299642358_3982_01_000001/ebouille\">Link</a></td><td></td></tr><tr><td>9400</td><td>application_1589299642358_3983</td><td>pyspark</td><td>idle</td><td><a target=\"_blank\" href=\"http://iccluster044.iccluster.epfl.ch:8088/proxy/application_1589299642358_3983/\">Link</a></td><td><a target=\"_blank\" href=\"http://iccluster066.iccluster.epfl.ch:8042/node/containerlogs/container_e06_1589299642358_3983_01_000001/ebouille\">Link</a></td><td></td></tr><tr><td>9401</td><td>application_1589299642358_3984</td><td>pyspark</td><td>starting</td><td><a target=\"_blank\" href=\"http://iccluster044.iccluster.epfl.ch:8088/proxy/application_1589299642358_3984/\">Link</a></td><td><a target=\"_blank\" href=\"http://iccluster065.iccluster.epfl.ch:8042/node/containerlogs/container_e06_1589299642358_3984_01_000001/ebouille\">Link</a></td><td></td></tr></table>"
      ],
      "text/plain": [
       "<IPython.core.display.HTML object>"
      ]
     },
     "metadata": {},
     "output_type": "display_data"
    }
   ],
   "source": [
    "%%configure\n",
    "{\"conf\": {\n",
    "    \"spark.app.name\": \"group100_final\"\n",
    "}}"
   ]
  },
  {
   "cell_type": "code",
   "execution_count": 2,
   "metadata": {},
   "outputs": [
    {
     "name": "stdout",
     "output_type": "stream",
     "text": [
      "Starting Spark application\n"
     ]
    },
    {
     "data": {
      "text/html": [
       "<table>\n",
       "<tr><th>ID</th><th>YARN Application ID</th><th>Kind</th><th>State</th><th>Spark UI</th><th>Driver log</th><th>Current session?</th></tr><tr><td>9402</td><td>application_1589299642358_3985</td><td>pyspark</td><td>idle</td><td><a target=\"_blank\" href=\"http://iccluster044.iccluster.epfl.ch:8088/proxy/application_1589299642358_3985/\">Link</a></td><td><a target=\"_blank\" href=\"http://iccluster071.iccluster.epfl.ch:8042/node/containerlogs/container_e06_1589299642358_3985_01_000001/ebouille\">Link</a></td><td>✔</td></tr></table>"
      ],
      "text/plain": [
       "<IPython.core.display.HTML object>"
      ]
     },
     "metadata": {},
     "output_type": "display_data"
    },
    {
     "data": {
      "application/vnd.jupyter.widget-view+json": {
       "model_id": "",
       "version_major": 2,
       "version_minor": 0
      },
      "text/plain": [
       "FloatProgress(value=0.0, bar_style='info', description='Progress:', layout=Layout(height='25px', width='50%'),…"
      ]
     },
     "metadata": {},
     "output_type": "display_data"
    },
    {
     "name": "stdout",
     "output_type": "stream",
     "text": [
      "SparkSession available as 'spark'.\n"
     ]
    },
    {
     "data": {
      "application/vnd.jupyter.widget-view+json": {
       "model_id": "",
       "version_major": 2,
       "version_minor": 0
      },
      "text/plain": [
       "FloatProgress(value=0.0, bar_style='info', description='Progress:', layout=Layout(height='25px', width='50%'),…"
      ]
     },
     "metadata": {},
     "output_type": "display_data"
    }
   ],
   "source": [
    "# Initialization"
   ]
  },
  {
   "cell_type": "code",
   "execution_count": 3,
   "metadata": {},
   "outputs": [
    {
     "data": {
      "application/vnd.jupyter.widget-view+json": {
       "model_id": "",
       "version_major": 2,
       "version_minor": 0
      },
      "text/plain": [
       "FloatProgress(value=0.0, bar_style='info', description='Progress:', layout=Layout(height='25px', width='50%'),…"
      ]
     },
     "metadata": {},
     "output_type": "display_data"
    }
   ],
   "source": [
    "username = 'mjouve'"
   ]
  },
  {
   "cell_type": "code",
   "execution_count": 4,
   "metadata": {},
   "outputs": [
    {
     "data": {
      "application/vnd.jupyter.widget-view+json": {
       "model_id": "",
       "version_major": 2,
       "version_minor": 0
      },
      "text/plain": [
       "FloatProgress(value=0.0, bar_style='info', description='Progress:', layout=Layout(height='25px', width='50%'),…"
      ]
     },
     "metadata": {},
     "output_type": "display_data"
    }
   ],
   "source": [
    "from pyspark.sql.functions import udf\n",
    "import pyspark.sql.functions as F\n",
    "from datetime import time, datetime, timedelta\n",
    "from collections import defaultdict\n",
    "import numpy as np"
   ]
  },
  {
   "cell_type": "markdown",
   "metadata": {},
   "source": [
    "# Loading previously obtained dataframe"
   ]
  },
  {
   "cell_type": "code",
   "execution_count": 5,
   "metadata": {},
   "outputs": [
    {
     "data": {
      "application/vnd.jupyter.widget-view+json": {
       "model_id": "",
       "version_major": 2,
       "version_minor": 0
      },
      "text/plain": [
       "FloatProgress(value=0.0, bar_style='info', description='Progress:', layout=Layout(height='25px', width='50%'),…"
      ]
     },
     "metadata": {},
     "output_type": "display_data"
    }
   ],
   "source": [
    "stops = spark.read.orc(\"/user/{}/zurich_stops.orc\".format(username))"
   ]
  },
  {
   "cell_type": "code",
   "execution_count": 6,
   "metadata": {},
   "outputs": [
    {
     "data": {
      "application/vnd.jupyter.widget-view+json": {
       "model_id": "",
       "version_major": 2,
       "version_minor": 0
      },
      "text/plain": [
       "FloatProgress(value=0.0, bar_style='info', description='Progress:', layout=Layout(height='25px', width='50%'),…"
      ]
     },
     "metadata": {},
     "output_type": "display_data"
    }
   ],
   "source": [
    "reachable_pair_grouped = spark.read.orc(\"/user/{}/reachable_pair_grouped.orc\".format(username))"
   ]
  },
  {
   "cell_type": "code",
   "execution_count": 7,
   "metadata": {},
   "outputs": [
    {
     "data": {
      "application/vnd.jupyter.widget-view+json": {
       "model_id": "",
       "version_major": 2,
       "version_minor": 0
      },
      "text/plain": [
       "FloatProgress(value=0.0, bar_style='info', description='Progress:', layout=Layout(height='25px', width='50%'),…"
      ]
     },
     "metadata": {},
     "output_type": "display_data"
    }
   ],
   "source": [
    "stop_times = spark.read.orc(\"/user/{}/stop_times_filtered.orc\".format(username))"
   ]
  },
  {
   "cell_type": "code",
   "execution_count": 8,
   "metadata": {},
   "outputs": [
    {
     "data": {
      "application/vnd.jupyter.widget-view+json": {
       "model_id": "",
       "version_major": 2,
       "version_minor": 0
      },
      "text/plain": [
       "FloatProgress(value=0.0, bar_style='info', description='Progress:', layout=Layout(height='25px', width='50%'),…"
      ]
     },
     "metadata": {},
     "output_type": "display_data"
    }
   ],
   "source": [
    "connexions = spark.read.orc(\"/user/{}/connexions.orc\".format(username))"
   ]
  },
  {
   "cell_type": "markdown",
   "metadata": {},
   "source": [
    "# Helpers methods"
   ]
  },
  {
   "cell_type": "code",
   "execution_count": 9,
   "metadata": {},
   "outputs": [
    {
     "data": {
      "application/vnd.jupyter.widget-view+json": {
       "model_id": "",
       "version_major": 2,
       "version_minor": 0
      },
      "text/plain": [
       "FloatProgress(value=0.0, bar_style='info', description='Progress:', layout=Layout(height='25px', width='50%'),…"
      ]
     },
     "metadata": {},
     "output_type": "display_data"
    }
   ],
   "source": [
    "def compute_footpaths_dict(reachable_pair_df):\n",
    "    \"\"\"\n",
    "    Given a pyspark Dataframe of reachable pairs grouped,\n",
    "    returns the footpaths dictionary used by our algorithm\n",
    "    \"\"\"\n",
    "    return dict(((row.id_1, row.destinations) for row in reachable_pair_df.collect()))"
   ]
  },
  {
   "cell_type": "code",
   "execution_count": 10,
   "metadata": {},
   "outputs": [
    {
     "data": {
      "application/vnd.jupyter.widget-view+json": {
       "model_id": "",
       "version_major": 2,
       "version_minor": 0
      },
      "text/plain": [
       "FloatProgress(value=0.0, bar_style='info', description='Progress:', layout=Layout(height='25px', width='50%'),…"
      ]
     },
     "metadata": {},
     "output_type": "display_data"
    }
   ],
   "source": [
    "def to_datetime(str_time):\n",
    "    \"\"\"\n",
    "    Given a string representing a time (format 'H:M:s', H: hour, M: minute, s:second), convert it to a datetime object\n",
    "    \"\"\"\n",
    "    hour, minute, second = str_time.split(':')\n",
    "    \n",
    "    # convert it to int and remove potential errors by taking a modulo\n",
    "    hour = int(hour) % 24\n",
    "    minute = int(minute) % 60\n",
    "    second = int(second) % 60\n",
    "    \n",
    "    # the year, month and day are dummies heres\n",
    "    return datetime(year=2020, month=1, day=1, hour=hour, minute=minute, second=second)"
   ]
  },
  {
   "cell_type": "code",
   "execution_count": 11,
   "metadata": {},
   "outputs": [
    {
     "data": {
      "application/vnd.jupyter.widget-view+json": {
       "model_id": "",
       "version_major": 2,
       "version_minor": 0
      },
      "text/plain": [
       "FloatProgress(value=0.0, bar_style='info', description='Progress:', layout=Layout(height='25px', width='50%'),…"
      ]
     },
     "metadata": {},
     "output_type": "display_data"
    }
   ],
   "source": [
    "def sort_connexions(connexions_df, departure = True):\n",
    "    \"\"\"\n",
    "    Given a pyspark DataFrame of connexions, returns an array of sorted connexions in ascending order of departure\n",
    "    if departure = True, else in descending order of arrival\n",
    "    \"\"\"\n",
    "\n",
    "    connexions_array = [{'departure_location': row.stop_id_1, \n",
    "                         'departure_time': to_datetime(row.departure_time_1), \n",
    "                         'arrival_location': row.stop_id_2, \n",
    "                         'arrival_time': to_datetime(row.arrival_time_2), \n",
    "                         'trip_id': row.trip_id} for row in connexions_df.collect()]\n",
    "    \n",
    "    if departure:\n",
    "        sorted_connexions = sorted(connexions_array, key = (lambda tup: tup['departure_time']))\n",
    "    \n",
    "    else:\n",
    "        sorted_connexions = sorted(connexions_array, key = (lambda tup: tup['arrival_time']), reverse = True)\n",
    "        \n",
    "    return sorted_connexions"
   ]
  },
  {
   "cell_type": "markdown",
   "metadata": {},
   "source": [
    "# Main algorithms"
   ]
  },
  {
   "cell_type": "markdown",
   "metadata": {},
   "source": [
    "## Updating arrival times"
   ]
  },
  {
   "cell_type": "code",
   "execution_count": 12,
   "metadata": {},
   "outputs": [
    {
     "data": {
      "application/vnd.jupyter.widget-view+json": {
       "model_id": "",
       "version_major": 2,
       "version_minor": 0
      },
      "text/plain": [
       "FloatProgress(value=0.0, bar_style='info', description='Progress:', layout=Layout(height='25px', width='50%'),…"
      ]
     },
     "metadata": {},
     "output_type": "display_data"
    }
   ],
   "source": [
    "def updates_times_dict_given_departure_top_K(times, sorted_connexions, footpaths, departure_location, departure_time, final_location, K):\n",
    "    \"\"\"\n",
    "    Given an initialized times dictionary, the array of sorted connexion, the footpaths dictionary\n",
    "    a departure_location given as a stop_id (str),\n",
    "    and a departure time (datetime object)\n",
    "    updates the times dictionary (K answer for the final_location)\n",
    "    \"\"\"\n",
    "    \n",
    "    # each entry is now an array\n",
    "    times[departure_location][0] = ( (departure_time, None) )\n",
    "    \n",
    "\n",
    "    # Initalize a dictionary of trips taken. For each trip already taken, \n",
    "    # we map it to the first departure location and departure time where we could have taken this trip. \n",
    "    # Returns None if the key is not assigned to another value thanks to defaultdict.\n",
    "    trips_taken = defaultdict(lambda: None)\n",
    "\n",
    "    # Iterate over connexions in sorted order\n",
    "    for c in sorted_connexions:\n",
    "    \n",
    "        # trip_id of the current connexion\n",
    "        trip_id = c['trip_id']\n",
    "    \n",
    "        # departure location of the current connexion\n",
    "        departure_location = c['departure_location']\n",
    "    \n",
    "        # departure time of the current connexion\n",
    "        departure_time = c['departure_time']\n",
    "    \n",
    "        # arrival location of the current connexion\n",
    "        arrival_location = c['arrival_location']\n",
    "    \n",
    "        # arrival time of the current connexion\n",
    "        arrival_time = c['arrival_time']\n",
    "    \n",
    "        # If current trip could have been taken earlier\n",
    "        if trips_taken[trip_id]:\n",
    "        \n",
    "            # obtain data about this current trip (where we could have taken it and when)\n",
    "            trip_data = trips_taken[trip_id]\n",
    "        \n",
    "            # get the arrival array for arrival_location\n",
    "            arrival_array = times[arrival_location]\n",
    "            \n",
    "            # if it is the final location we store more than one solution\n",
    "            if arrival_location == final_location and len(arrival_array) < K:\n",
    "                \n",
    "                arrival_array.append((arrival_time, {'departure_location': trip_data[0],\n",
    "                                                              'departure_time': trip_data[1],\n",
    "                                                              'arrival_location':arrival_location,\n",
    "                                                              'arrival_time': arrival_time,\n",
    "                                                              'trip_id': trip_id}))\n",
    "                \n",
    "                arrival_array.sort(key = (lambda tup: tup[0]))\n",
    "            \n",
    "            # else we check if the arrival time is better\n",
    "            elif arrival_time < times[arrival_location][-1][0]:\n",
    "            \n",
    "                # update arrival time as well as connexion data for this arrival location\n",
    "                times[arrival_location][-1] = (arrival_time, {'departure_location': trip_data[0],\n",
    "                                                              'departure_time': trip_data[1],\n",
    "                                                              'arrival_location':arrival_location,\n",
    "                                                              'arrival_time': arrival_time,\n",
    "                                                              'trip_id': trip_id})\n",
    "                \n",
    "                arrival_array.sort(key = (lambda tup: tup[0]))\n",
    "            \n",
    "            # obtain the stops reachable by walking\n",
    "            reachable_stops_walking = footpaths.get(arrival_location, None)\n",
    "            \n",
    "            \n",
    "            if reachable_stops_walking:\n",
    "                \n",
    "                # for each possible destination\n",
    "                for destination in reachable_stops_walking:\n",
    "                    \n",
    "                    # obtain the stop_id\n",
    "                    location = destination[0]\n",
    "                    \n",
    "                    # obtain the walk duration from arrival_location (convert it to float)\n",
    "                    walking_time = float(destination[1])\n",
    "                    \n",
    "                    # compute the new arrival time if using this path\n",
    "                    new_arrival_time = arrival_time + timedelta(seconds = walking_time)\n",
    "                    \n",
    "                    # obtain the current arrival time array for this location\n",
    "                    curr_arrival_time_array = times[location]\n",
    "                      \n",
    "                    # if it is the final location we store more than one solution\n",
    "                    if location == final_location and len(curr_arrival_time_array) < K:\n",
    "                        \n",
    "                        curr_arrival_time_array.append((new_arrival_time, {'departure_location': arrival_location,\n",
    "                                                              'departure_time': arrival_time,\n",
    "                                                              'arrival_location':location,\n",
    "                                                              'arrival_time': new_arrival_time,\n",
    "                                                              'trip_id': 'Walking during {s} seconds'.format(s = walking_time)}))\n",
    "                        \n",
    "                        curr_arrival_time_array.sort(key = (lambda tup: tup[0]))\n",
    "                    \n",
    "                    \n",
    "                    # if it improves the current best arrival time, we update our dictionary\n",
    "                    elif new_arrival_time < curr_arrival_time_array[-1][0]:\n",
    "                        curr_arrival_time_array[-1] = (new_arrival_time, {'departure_location': arrival_location,\n",
    "                                                              'departure_time': arrival_time,\n",
    "                                                              'arrival_location':location,\n",
    "                                                              'arrival_time': new_arrival_time,\n",
    "                                                              'trip_id': 'Walking during {s} seconds'.format(s = walking_time)})\n",
    "                        \n",
    "                        curr_arrival_time_array.sort(key = (lambda tup: tup[0]))\n",
    "    \n",
    "        # if we can take this connexion\n",
    "        elif (times[departure_location][0][0] + timedelta(seconds = 120)) <= departure_time:\n",
    "\n",
    "            # update trips taken with this new trip\n",
    "            trips_taken[trip_id] = (departure_location, departure_time)\n",
    "        \n",
    "            # obtain the array\n",
    "            arrival_location_array = times[arrival_location]\n",
    "            \n",
    "            # if it is the final array we store more than one solution\n",
    "            if arrival_location == final_location and len(arrival_location_array) < K:\n",
    "                \n",
    "                arrival_location_array.append((arrival_time, {'departure_location': departure_location,\n",
    "                                                              'departure_time': departure_time,\n",
    "                                                              'arrival_location':arrival_location,\n",
    "                                                              'arrival_time': arrival_time,\n",
    "                                                              'trip_id': trip_id})  )\n",
    "                \n",
    "                arrival_location_array.sort(key=(lambda tup: tup[0]))\n",
    "                \n",
    "            # if the arrival time is better than the current best\n",
    "            elif arrival_time < times[arrival_location][-1][0]:\n",
    "            \n",
    "                # update the best time for the arrival location\n",
    "                arrival_location_array[-1] = (arrival_time, c)  \n",
    "                \n",
    "                arrival_location_array.sort(key=(lambda tup: tup[0]))\n",
    "            \n",
    "            # obtain the stops reachable by walking\n",
    "            reachable_stops_walking = footpaths.get(arrival_location, None) \n",
    "            \n",
    "            \n",
    "            if reachable_stops_walking:\n",
    "                \n",
    "                # for each possible destination\n",
    "                for destination in reachable_stops_walking:\n",
    "                    \n",
    "                    # obtain the stop_id\n",
    "                    location = destination[0]\n",
    "                    \n",
    "                    # obtain the walk duration from arrival_location (convert it to float)\n",
    "                    walking_time = float(destination[1])\n",
    "                    \n",
    "                    # compute the new arrival time if using this path\n",
    "                    new_arrival_time = arrival_time + timedelta(seconds = walking_time)\n",
    "                    \n",
    "                    # obtain the current arrival time array\n",
    "                    curr_arrival_time_array = times[location]\n",
    "                      \n",
    "                    # if it is the final stop we store more than one solution\n",
    "                    if location == final_location and len(curr_arrival_time_array) < K:\n",
    "                        \n",
    "                        curr_arrival_time_array.append((new_arrival_time, {'departure_location': arrival_location,\n",
    "                                                              'departure_time': arrival_time,\n",
    "                                                              'arrival_location':location,\n",
    "                                                              'arrival_time': new_arrival_time,\n",
    "                                                              'trip_id': 'Walking during {s} seconds'.format(s = walking_time)}))\n",
    "                        \n",
    "                        curr_arrival_time_array.sort(key = (lambda tup: tup[0]))\n",
    "                    \n",
    "                    \n",
    "                    # if it improves the current best arrival time, we update our dictionary\n",
    "                    elif new_arrival_time < curr_arrival_time_array[-1][0]:\n",
    "                        curr_arrival_time_array[-1] = (new_arrival_time, {'departure_location': arrival_location,\n",
    "                                                              'departure_time': arrival_time,\n",
    "                                                              'arrival_location':location,\n",
    "                                                              'arrival_time': new_arrival_time,\n",
    "                                                              'trip_id': 'Walking during {s} seconds'.format(s = walking_time)})\n",
    "                        \n",
    "                        curr_arrival_time_array.sort(key = (lambda tup: tup[0]))"
   ]
  },
  {
   "cell_type": "markdown",
   "metadata": {},
   "source": [
    "## Constructing the paths"
   ]
  },
  {
   "cell_type": "code",
   "execution_count": 13,
   "metadata": {},
   "outputs": [
    {
     "data": {
      "application/vnd.jupyter.widget-view+json": {
       "model_id": "",
       "version_major": 2,
       "version_minor": 0
      },
      "text/plain": [
       "FloatProgress(value=0.0, bar_style='info', description='Progress:', layout=Layout(height='25px', width='50%'),…"
      ]
     },
     "metadata": {},
     "output_type": "display_data"
    }
   ],
   "source": [
    "def backward_K(departure_stop, arrival_stop, times, K):\n",
    "    \"\"\"\n",
    "    Returns a list of paths taken from departure_stop to arrival_stop given the times dictionary computed\n",
    "    \"\"\"\n",
    "\n",
    "    routes = []\n",
    "    \n",
    "    for i in range(K):\n",
    "        \n",
    "        paths = []\n",
    "        \n",
    "        current_connexion = times[arrival_stop][i][1]\n",
    "        current_stop = None\n",
    "    \n",
    "        while current_stop != departure_stop:\n",
    "        \n",
    "            current_stop = current_connexion['departure_location']\n",
    "            arrival_location = current_connexion['arrival_location']\n",
    "            trip = current_connexion['trip_id']\n",
    "        \n",
    "            if 'Walking' in trip:\n",
    "                path = trip + ' from {d} to {a}'.format(d = current_stop, a = arrival_location)\n",
    "        \n",
    "            else:\n",
    "                path = 'From {d_l} (at {d_t}) to {a_l} (at {a_t}) using trip: {t}'.format(d_l = current_stop,\n",
    "                                                                                      d_t = current_connexion['departure_time'].time(),\n",
    "                                                                                      a_l = arrival_location,\n",
    "                                                                                      a_t = current_connexion['arrival_time'].time(),\n",
    "                                                                                      t = current_connexion['trip_id'])\n",
    "        \n",
    "            paths.append(path)\n",
    "        \n",
    "        \n",
    "            current_connexion = times[current_stop][0][1]\n",
    "        \n",
    "        route = \"\\n\".join(path for path in paths[::-1])\n",
    "        routes.append(route)\n",
    "    \n",
    "    return routes   "
   ]
  },
  {
   "cell_type": "markdown",
   "metadata": {},
   "source": [
    "# Running the algorithm"
   ]
  },
  {
   "cell_type": "code",
   "execution_count": 14,
   "metadata": {},
   "outputs": [
    {
     "data": {
      "application/vnd.jupyter.widget-view+json": {
       "model_id": "",
       "version_major": 2,
       "version_minor": 0
      },
      "text/plain": [
       "FloatProgress(value=0.0, bar_style='info', description='Progress:', layout=Layout(height='25px', width='50%'),…"
      ]
     },
     "metadata": {},
     "output_type": "display_data"
    }
   ],
   "source": [
    "footpaths = compute_footpaths_dict(reachable_pair_grouped)"
   ]
  },
  {
   "cell_type": "code",
   "execution_count": 15,
   "metadata": {},
   "outputs": [
    {
     "data": {
      "application/vnd.jupyter.widget-view+json": {
       "model_id": "",
       "version_major": 2,
       "version_minor": 0
      },
      "text/plain": [
       "FloatProgress(value=0.0, bar_style='info', description='Progress:', layout=Layout(height='25px', width='50%'),…"
      ]
     },
     "metadata": {},
     "output_type": "display_data"
    }
   ],
   "source": [
    "sorted_connexions = sort_connexions(connexions)"
   ]
  },
  {
   "cell_type": "code",
   "execution_count": 16,
   "metadata": {},
   "outputs": [
    {
     "data": {
      "application/vnd.jupyter.widget-view+json": {
       "model_id": "",
       "version_major": 2,
       "version_minor": 0
      },
      "text/plain": [
       "FloatProgress(value=0.0, bar_style='info', description='Progress:', layout=Layout(height='25px', width='50%'),…"
      ]
     },
     "metadata": {},
     "output_type": "display_data"
    }
   ],
   "source": [
    "# initialize time dictionary\n",
    "times_top_K = dict(((row.stop_id, [(datetime(year=2020, month=1, day=6, hour=23, minute=59, second = 59), None)])\n",
    "                    for row in stops.select(stops.stop_id).collect()))\n",
    "\n",
    "\n",
    "departure_stop = '8503000'\n",
    "arrival_stop = '8591049'\n",
    "departure_time = '12:00:00'\n",
    "K = 4\n",
    "\n",
    "\n",
    "hour, minute, second = departure_time.split(':')\n",
    "hour = int(hour)\n",
    "minute = int(minute)\n",
    "second = int(second)\n",
    "    \n",
    "departure_time_datetime = datetime(year=2020, month=1, day=1, hour=hour, minute=minute, second=second)"
   ]
  },
  {
   "cell_type": "code",
   "execution_count": 17,
   "metadata": {},
   "outputs": [
    {
     "data": {
      "application/vnd.jupyter.widget-view+json": {
       "model_id": "",
       "version_major": 2,
       "version_minor": 0
      },
      "text/plain": [
       "FloatProgress(value=0.0, bar_style='info', description='Progress:', layout=Layout(height='25px', width='50%'),…"
      ]
     },
     "metadata": {},
     "output_type": "display_data"
    }
   ],
   "source": [
    "updates_times_dict_given_departure_top_K(times_top_K, sorted_connexions, footpaths, departure_stop, departure_time_datetime, arrival_stop, K)"
   ]
  },
  {
   "cell_type": "code",
   "execution_count": 18,
   "metadata": {},
   "outputs": [
    {
     "data": {
      "application/vnd.jupyter.widget-view+json": {
       "model_id": "",
       "version_major": 2,
       "version_minor": 0
      },
      "text/plain": [
       "FloatProgress(value=0.0, bar_style='info', description='Progress:', layout=Layout(height='25px', width='50%'),…"
      ]
     },
     "metadata": {},
     "output_type": "display_data"
    }
   ],
   "source": [
    "routes = backward_K(departure_stop, arrival_stop, times_top_K, K)"
   ]
  },
  {
   "cell_type": "code",
   "execution_count": 19,
   "metadata": {},
   "outputs": [
    {
     "data": {
      "application/vnd.jupyter.widget-view+json": {
       "model_id": "",
       "version_major": 2,
       "version_minor": 0
      },
      "text/plain": [
       "FloatProgress(value=0.0, bar_style='info', description='Progress:', layout=Layout(height='25px', width='50%'),…"
      ]
     },
     "metadata": {},
     "output_type": "display_data"
    },
    {
     "name": "stdout",
     "output_type": "stream",
     "text": [
      "Route 1:\n",
      "From 8503000 (at 12:05:00) to 8503006 (at 12:11:00) using trip: 32.TA.80-159-Y-j19-1.8.H\n",
      "Walking during 72.0 seconds from 8503006 to 8580449\n",
      "From 8580449 (at 12:15:00) to 8591049 (at 12:24:00) using trip: 1914.TA.26-11-A-j19-1.27.R\n",
      "\n",
      "\n",
      "Route 2:\n",
      "From 8503000 (at 12:07:00) to 8503310 (at 12:17:00) using trip: 20.TA.26-9-A-j19-1.2.H\n",
      "Walking during 70.0 seconds from 8503310 to 8590620\n",
      "From 8590620 (at 12:23:00) to 8591049 (at 12:29:00) using trip: 168.TA.26-12-A-j19-1.2.H\n",
      "\n",
      "\n",
      "Route 3:\n",
      "From 8503000 (at 12:05:00) to 8503006 (at 12:11:00) using trip: 32.TA.80-159-Y-j19-1.8.H\n",
      "Walking during 72.0 seconds from 8503006 to 8580449\n",
      "From 8580449 (at 12:15:00) to 8591049 (at 12:24:00) using trip: 1914.TA.26-11-A-j19-1.27.R\n",
      "Walking during 176.0 seconds from 8591049 to 8591297\n",
      "Walking during 176.0 seconds from 8591297 to 8591049\n",
      "\n",
      "\n",
      "Route 4:\n",
      "From 8503000 (at 12:05:00) to 8503006 (at 12:11:00) using trip: 32.TA.80-159-Y-j19-1.8.H\n",
      "Walking during 72.0 seconds from 8503006 to 8580449\n",
      "From 8580449 (at 12:16:00) to 8591225 (at 12:21:00) using trip: 660.TA.26-787-j19-1.4.R\n",
      "Walking during 556.0 seconds from 8591225 to 8591049"
     ]
    }
   ],
   "source": [
    "for i, route in enumerate(routes):\n",
    "    print('Route {nb}:'.format(nb = i+1))\n",
    "    print(route)\n",
    "    print('\\n')"
   ]
  },
  {
   "cell_type": "markdown",
   "metadata": {},
   "source": [
    "# Next step:\n",
    "\n",
    "_Now that our algorithm can find multiple routes, we wanted to include a dummy confidence estimation using some defined probability while we were developping our predictive model. You can see this algorithm in the notebook `route_planning_proba.ipynb`._"
   ]
  }
 ],
 "metadata": {
  "kernelspec": {
   "display_name": "PySpark",
   "language": "",
   "name": "pysparkkernel"
  },
  "language_info": {
   "codemirror_mode": {
    "name": "python",
    "version": 3
   },
   "mimetype": "text/x-python",
   "name": "pyspark",
   "pygments_lexer": "python3"
  }
 },
 "nbformat": 4,
 "nbformat_minor": 4
}
